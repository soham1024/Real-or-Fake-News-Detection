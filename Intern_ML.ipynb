{
  "nbformat": 4,
  "nbformat_minor": 0,
  "metadata": {
    "colab": {
      "name": "InternTask3.ipynb",
      "provenance": [],
      "collapsed_sections": [
        "G07-ietOZwux",
        "TXRIjtDdquEF",
        "Vv_TPflAqpPy",
        "k0JiXaLrq2Uo",
        "rXNaLGvvrGhe",
        "OtBtYCENrRkx",
        "kl48KQXprbxh",
        "3phS81Y1rk4b",
        "zecw0yKAr0VX",
        "bKBQFHF5r8vi",
        "96_YPMEQsF5b",
        "t0UUDz54FGdV"
      ]
    },
    "kernelspec": {
      "name": "python3",
      "display_name": "Python 3"
    },
    "accelerator": "GPU"
  },
  "cells": [
    {
      "cell_type": "markdown",
      "metadata": {
        "id": "iM9viwniE2cl",
        "colab_type": "text"
      },
      "source": [
        "#* Load Data"
      ]
    },
    {
      "cell_type": "code",
      "metadata": {
        "id": "f3hTJzecP964",
        "colab_type": "code",
        "colab": {}
      },
      "source": [
        "from google.colab import files\n",
        "uploaded = files.upload()"
      ],
      "execution_count": null,
      "outputs": []
    },
    {
      "cell_type": "code",
      "metadata": {
        "id": "DYWLxhQTnDY9",
        "colab_type": "code",
        "colab": {
          "base_uri": "https://localhost:8080/",
          "height": 124
        },
        "outputId": "ee3faa3e-8b67-4a93-d95a-520afc257e27"
      },
      "source": [
        "from google.colab import drive\n",
        "drive.mount('/content/drive')"
      ],
      "execution_count": null,
      "outputs": [
        {
          "output_type": "stream",
          "text": [
            "Go to this URL in a browser: https://accounts.google.com/o/oauth2/auth?client_id=947318989803-6bn6qk8qdgf4n4g3pfee6491hc0brc4i.apps.googleusercontent.com&redirect_uri=urn%3aietf%3awg%3aoauth%3a2.0%3aoob&response_type=code&scope=email%20https%3a%2f%2fwww.googleapis.com%2fauth%2fdocs.test%20https%3a%2f%2fwww.googleapis.com%2fauth%2fdrive%20https%3a%2f%2fwww.googleapis.com%2fauth%2fdrive.photos.readonly%20https%3a%2f%2fwww.googleapis.com%2fauth%2fpeopleapi.readonly\n",
            "\n",
            "Enter your authorization code:\n",
            "··········\n",
            "Mounted at /content/drive\n"
          ],
          "name": "stdout"
        }
      ]
    },
    {
      "cell_type": "code",
      "metadata": {
        "id": "ASTOQCZCnSAm",
        "colab_type": "code",
        "colab": {}
      },
      "source": [
        "!ls \"/content/drive/My Drive\""
      ],
      "execution_count": null,
      "outputs": []
    },
    {
      "cell_type": "code",
      "metadata": {
        "id": "-qSHY4pYnbkC",
        "colab_type": "code",
        "colab": {}
      },
      "source": [
        "!unzip -q \"/content/drive/My Drive/Intern/news.zip\""
      ],
      "execution_count": null,
      "outputs": []
    },
    {
      "cell_type": "code",
      "metadata": {
        "id": "z72KDQIbntkc",
        "colab_type": "code",
        "colab": {}
      },
      "source": [
        "import pandas as pd \n",
        "import numpy as np\n",
        "\n",
        "news=pd.read_csv('news.csv')\n",
        "#df=pd.read_csv('train.csv')"
      ],
      "execution_count": null,
      "outputs": []
    },
    {
      "cell_type": "code",
      "metadata": {
        "id": "Tjg5otcDoEqx",
        "colab_type": "code",
        "colab": {
          "base_uri": "https://localhost:8080/",
          "height": 112
        },
        "outputId": "27811c11-83ad-4d59-dd4c-5c98ec93ab66"
      },
      "source": [
        "news.head(2)"
      ],
      "execution_count": null,
      "outputs": [
        {
          "output_type": "execute_result",
          "data": {
            "text/html": [
              "<div>\n",
              "<style scoped>\n",
              "    .dataframe tbody tr th:only-of-type {\n",
              "        vertical-align: middle;\n",
              "    }\n",
              "\n",
              "    .dataframe tbody tr th {\n",
              "        vertical-align: top;\n",
              "    }\n",
              "\n",
              "    .dataframe thead th {\n",
              "        text-align: right;\n",
              "    }\n",
              "</style>\n",
              "<table border=\"1\" class=\"dataframe\">\n",
              "  <thead>\n",
              "    <tr style=\"text-align: right;\">\n",
              "      <th></th>\n",
              "      <th>Unnamed: 0</th>\n",
              "      <th>title</th>\n",
              "      <th>text</th>\n",
              "      <th>label</th>\n",
              "    </tr>\n",
              "  </thead>\n",
              "  <tbody>\n",
              "    <tr>\n",
              "      <th>0</th>\n",
              "      <td>8476</td>\n",
              "      <td>You Can Smell Hillary’s Fear</td>\n",
              "      <td>Daniel Greenfield, a Shillman Journalism Fello...</td>\n",
              "      <td>FAKE</td>\n",
              "    </tr>\n",
              "    <tr>\n",
              "      <th>1</th>\n",
              "      <td>10294</td>\n",
              "      <td>Watch The Exact Moment Paul Ryan Committed Pol...</td>\n",
              "      <td>Google Pinterest Digg Linkedin Reddit Stumbleu...</td>\n",
              "      <td>FAKE</td>\n",
              "    </tr>\n",
              "  </tbody>\n",
              "</table>\n",
              "</div>"
            ],
            "text/plain": [
              "   Unnamed: 0  ... label\n",
              "0        8476  ...  FAKE\n",
              "1       10294  ...  FAKE\n",
              "\n",
              "[2 rows x 4 columns]"
            ]
          },
          "metadata": {
            "tags": []
          },
          "execution_count": 4
        }
      ]
    },
    {
      "cell_type": "code",
      "metadata": {
        "id": "wT343wz0heAt",
        "colab_type": "code",
        "colab": {
          "base_uri": "https://localhost:8080/",
          "height": 112
        },
        "outputId": "78f66202-59ae-4c07-a566-3211bc108469"
      },
      "source": [
        "df.head(2)"
      ],
      "execution_count": null,
      "outputs": [
        {
          "output_type": "execute_result",
          "data": {
            "text/html": [
              "<div>\n",
              "<style scoped>\n",
              "    .dataframe tbody tr th:only-of-type {\n",
              "        vertical-align: middle;\n",
              "    }\n",
              "\n",
              "    .dataframe tbody tr th {\n",
              "        vertical-align: top;\n",
              "    }\n",
              "\n",
              "    .dataframe thead th {\n",
              "        text-align: right;\n",
              "    }\n",
              "</style>\n",
              "<table border=\"1\" class=\"dataframe\">\n",
              "  <thead>\n",
              "    <tr style=\"text-align: right;\">\n",
              "      <th></th>\n",
              "      <th>text</th>\n",
              "      <th>target</th>\n",
              "    </tr>\n",
              "  </thead>\n",
              "  <tbody>\n",
              "    <tr>\n",
              "      <th>0</th>\n",
              "      <td>You Can Smell Hillary’s Fear Daniel Greenfield...</td>\n",
              "      <td>FAKE</td>\n",
              "    </tr>\n",
              "    <tr>\n",
              "      <th>1</th>\n",
              "      <td>Watch The Exact Moment Paul Ryan Committed Pol...</td>\n",
              "      <td>FAKE</td>\n",
              "    </tr>\n",
              "  </tbody>\n",
              "</table>\n",
              "</div>"
            ],
            "text/plain": [
              "                                                text target\n",
              "0  You Can Smell Hillary’s Fear Daniel Greenfield...   FAKE\n",
              "1  Watch The Exact Moment Paul Ryan Committed Pol...   FAKE"
            ]
          },
          "metadata": {
            "tags": []
          },
          "execution_count": 21
        }
      ]
    },
    {
      "cell_type": "code",
      "metadata": {
        "id": "hISElvQ6hmBJ",
        "colab_type": "code",
        "colab": {}
      },
      "source": [
        "news[\"label\"]= news[\"label\"].replace('FAKE', 0)\n",
        "news[\"label\"]= news[\"label\"].replace('REAL', 1)\n",
        "news['label']=news['label'].astype(np.int8)"
      ],
      "execution_count": null,
      "outputs": []
    },
    {
      "cell_type": "code",
      "metadata": {
        "id": "Kw8lr3T-h4Y5",
        "colab_type": "code",
        "colab": {}
      },
      "source": [
        "news=news.rename(columns={\"Unnamed: 0\": \"id\", \"label\": \"target\"})"
      ],
      "execution_count": null,
      "outputs": []
    },
    {
      "cell_type": "code",
      "metadata": {
        "id": "B8hO00OBedlp",
        "colab_type": "code",
        "colab": {}
      },
      "source": [
        "news['text']=news['title']+\" \"+news['text']"
      ],
      "execution_count": null,
      "outputs": []
    },
    {
      "cell_type": "code",
      "metadata": {
        "id": "l8jWWE0yh-DM",
        "colab_type": "code",
        "colab": {}
      },
      "source": [
        "news=news[[\"text\",\"target\"]]"
      ],
      "execution_count": null,
      "outputs": []
    },
    {
      "cell_type": "code",
      "metadata": {
        "id": "UVeCGQGHoEue",
        "colab_type": "code",
        "colab": {
          "base_uri": "https://localhost:8080/",
          "height": 69
        },
        "outputId": "40cbc136-deec-4645-d093-2a5afc939c18"
      },
      "source": [
        "news['label'].value_counts()"
      ],
      "execution_count": null,
      "outputs": [
        {
          "output_type": "execute_result",
          "data": {
            "text/plain": [
              "REAL    3171\n",
              "FAKE    3164\n",
              "Name: label, dtype: int64"
            ]
          },
          "metadata": {
            "tags": []
          },
          "execution_count": 6
        }
      ]
    },
    {
      "cell_type": "code",
      "metadata": {
        "id": "6hxpsr5_p7UT",
        "colab_type": "code",
        "colab": {}
      },
      "source": [
        "import random\n",
        "dfs=[df,news]\n",
        "n = np.sum(len(df.columns) for df in dfs)\n",
        "df=pd.concat(dfs).iloc[:, random.sample(range(n), n)]"
      ],
      "execution_count": null,
      "outputs": []
    },
    {
      "cell_type": "code",
      "metadata": {
        "id": "HCtze2OwjLuq",
        "colab_type": "code",
        "colab": {
          "base_uri": "https://localhost:8080/",
          "height": 34
        },
        "outputId": "f06f1fdc-b0f5-4609-c465-42e5b86ed6ce"
      },
      "source": [
        "frames=[df,news]\n",
        "df = pd.concat(frames)\n",
        "df.shape"
      ],
      "execution_count": null,
      "outputs": [
        {
          "output_type": "execute_result",
          "data": {
            "text/plain": [
              "(13948, 2)"
            ]
          },
          "metadata": {
            "tags": []
          },
          "execution_count": 28
        }
      ]
    },
    {
      "cell_type": "code",
      "metadata": {
        "id": "_29eA5Y2lrNd",
        "colab_type": "code",
        "colab": {}
      },
      "source": [
        "df = df.sample(frac=1).reset_index(drop=True)"
      ],
      "execution_count": null,
      "outputs": []
    },
    {
      "cell_type": "code",
      "metadata": {
        "id": "vY5nFe8plzg1",
        "colab_type": "code",
        "colab": {}
      },
      "source": [
        "df=news"
      ],
      "execution_count": null,
      "outputs": []
    },
    {
      "cell_type": "code",
      "metadata": {
        "id": "_cx8R33Bf-uM",
        "colab_type": "code",
        "colab": {
          "base_uri": "https://localhost:8080/",
          "height": 424
        },
        "outputId": "0700cc64-cce3-422c-ad2a-3bc1fcce8e0e"
      },
      "source": [
        "df"
      ],
      "execution_count": null,
      "outputs": [
        {
          "output_type": "execute_result",
          "data": {
            "text/html": [
              "<div>\n",
              "<style scoped>\n",
              "    .dataframe tbody tr th:only-of-type {\n",
              "        vertical-align: middle;\n",
              "    }\n",
              "\n",
              "    .dataframe tbody tr th {\n",
              "        vertical-align: top;\n",
              "    }\n",
              "\n",
              "    .dataframe thead th {\n",
              "        text-align: right;\n",
              "    }\n",
              "</style>\n",
              "<table border=\"1\" class=\"dataframe\">\n",
              "  <thead>\n",
              "    <tr style=\"text-align: right;\">\n",
              "      <th></th>\n",
              "      <th>text</th>\n",
              "      <th>target</th>\n",
              "    </tr>\n",
              "  </thead>\n",
              "  <tbody>\n",
              "    <tr>\n",
              "      <th>0</th>\n",
              "      <td>You Can Smell Hillary’s Fear Daniel Greenfield...</td>\n",
              "      <td>0</td>\n",
              "    </tr>\n",
              "    <tr>\n",
              "      <th>1</th>\n",
              "      <td>Watch The Exact Moment Paul Ryan Committed Pol...</td>\n",
              "      <td>0</td>\n",
              "    </tr>\n",
              "    <tr>\n",
              "      <th>2</th>\n",
              "      <td>Kerry to go to Paris in gesture of sympathy U....</td>\n",
              "      <td>1</td>\n",
              "    </tr>\n",
              "    <tr>\n",
              "      <th>3</th>\n",
              "      <td>Bernie supporters on Twitter erupt in anger ag...</td>\n",
              "      <td>0</td>\n",
              "    </tr>\n",
              "    <tr>\n",
              "      <th>4</th>\n",
              "      <td>The Battle of New York: Why This Primary Matte...</td>\n",
              "      <td>1</td>\n",
              "    </tr>\n",
              "    <tr>\n",
              "      <th>...</th>\n",
              "      <td>...</td>\n",
              "      <td>...</td>\n",
              "    </tr>\n",
              "    <tr>\n",
              "      <th>6330</th>\n",
              "      <td>State Department says it can't find emails fro...</td>\n",
              "      <td>1</td>\n",
              "    </tr>\n",
              "    <tr>\n",
              "      <th>6331</th>\n",
              "      <td>The ‘P’ in PBS Should Stand for ‘Plutocratic’ ...</td>\n",
              "      <td>0</td>\n",
              "    </tr>\n",
              "    <tr>\n",
              "      <th>6332</th>\n",
              "      <td>Anti-Trump Protesters Are Tools of the Oligarc...</td>\n",
              "      <td>0</td>\n",
              "    </tr>\n",
              "    <tr>\n",
              "      <th>6333</th>\n",
              "      <td>In Ethiopia, Obama seeks progress on peace, se...</td>\n",
              "      <td>1</td>\n",
              "    </tr>\n",
              "    <tr>\n",
              "      <th>6334</th>\n",
              "      <td>Jeb Bush Is Suddenly Attacking Trump. Here's W...</td>\n",
              "      <td>1</td>\n",
              "    </tr>\n",
              "  </tbody>\n",
              "</table>\n",
              "<p>6335 rows × 2 columns</p>\n",
              "</div>"
            ],
            "text/plain": [
              "                                                   text  target\n",
              "0     You Can Smell Hillary’s Fear Daniel Greenfield...       0\n",
              "1     Watch The Exact Moment Paul Ryan Committed Pol...       0\n",
              "2     Kerry to go to Paris in gesture of sympathy U....       1\n",
              "3     Bernie supporters on Twitter erupt in anger ag...       0\n",
              "4     The Battle of New York: Why This Primary Matte...       1\n",
              "...                                                 ...     ...\n",
              "6330  State Department says it can't find emails fro...       1\n",
              "6331  The ‘P’ in PBS Should Stand for ‘Plutocratic’ ...       0\n",
              "6332  Anti-Trump Protesters Are Tools of the Oligarc...       0\n",
              "6333  In Ethiopia, Obama seeks progress on peace, se...       1\n",
              "6334  Jeb Bush Is Suddenly Attacking Trump. Here's W...       1\n",
              "\n",
              "[6335 rows x 2 columns]"
            ]
          },
          "metadata": {
            "tags": []
          },
          "execution_count": 10
        }
      ]
    },
    {
      "cell_type": "code",
      "metadata": {
        "id": "uuja6OmOpRu-",
        "colab_type": "code",
        "colab": {
          "base_uri": "https://localhost:8080/",
          "height": 72
        },
        "outputId": "81f84c9a-6f4f-49bc-a27c-0f4a38dfd745"
      },
      "source": [
        "import pandas as pd\n",
        "import numpy as np\n",
        "import seaborn as sns\n",
        "import matplotlib.pyplot as plt\n",
        "from sklearn.feature_extraction.text import CountVectorizer\n",
        "from sklearn import feature_extraction, linear_model, model_selection, preprocessing\n",
        "from sklearn.metrics import accuracy_score\n",
        "from sklearn.model_selection import train_test_split\n",
        "from sklearn.feature_extraction.text import TfidfTransformer\n",
        "from sklearn.pipeline import Pipeline\n",
        "from sklearn.svm import LinearSVC\n",
        "from sklearn.linear_model import LogisticRegression\n",
        "from sklearn.naive_bayes import GaussianNB\n",
        "from sklearn.naive_bayes import BernoulliNB\n",
        "from sklearn.naive_bayes import MultinomialNB\n",
        "from sklearn.ensemble import GradientBoostingClassifier\n",
        "from sklearn.tree import DecisionTreeClassifier\n",
        "from sklearn.neighbors import KNeighborsClassifier\n",
        "from xgboost import XGBClassifier\n",
        "from sklearn.linear_model import SGDClassifier\n",
        "from sklearn.ensemble import RandomForestClassifier\n",
        "\n",
        "import nltk\n",
        "import nltk as nlp\n",
        "import string\n",
        "import re"
      ],
      "execution_count": null,
      "outputs": [
        {
          "output_type": "stream",
          "text": [
            "/usr/local/lib/python3.6/dist-packages/statsmodels/tools/_testing.py:19: FutureWarning: pandas.util.testing is deprecated. Use the functions in the public API at pandas.testing instead.\n",
            "  import pandas.util.testing as tm\n"
          ],
          "name": "stderr"
        }
      ]
    },
    {
      "cell_type": "code",
      "metadata": {
        "id": "BvgIcKH1fidW",
        "colab_type": "code",
        "colab": {}
      },
      "source": [
        "def plot_confusion_matrix(cm,\n",
        "                          target_names,\n",
        "                          title='Confusion matrix',\n",
        "                          cmap=None,\n",
        "                          normalize=True):\n",
        "\n",
        "    import matplotlib.pyplot as plt\n",
        "    import numpy as np\n",
        "    import itertools\n",
        "\n",
        "    accuracy = np.trace(cm) / np.sum(cm).astype('float')\n",
        "    misclass = 1 - accuracy\n",
        "\n",
        "    if cmap is None:\n",
        "        cmap = plt.get_cmap('Blues')\n",
        "\n",
        "    plt.figure(figsize=(8, 6))\n",
        "    plt.imshow(cm, interpolation='nearest', cmap=cmap)\n",
        "    plt.title(title)\n",
        "    plt.colorbar()\n",
        "\n",
        "    if target_names is not None:\n",
        "        tick_marks = np.arange(len(target_names))\n",
        "        plt.xticks(tick_marks, target_names, rotation=45)\n",
        "        plt.yticks(tick_marks, target_names)\n",
        "\n",
        "    if normalize:\n",
        "        cm = cm.astype('float') / cm.sum(axis=1)[:, np.newaxis]\n",
        "\n",
        "\n",
        "    thresh = cm.max() / 1.5 if normalize else cm.max() / 2\n",
        "    for i, j in itertools.product(range(cm.shape[0]), range(cm.shape[1])):\n",
        "        if normalize:\n",
        "            plt.text(j, i, \"{:0.4f}\".format(cm[i, j]),\n",
        "                     horizontalalignment=\"center\",\n",
        "                     color=\"white\" if cm[i, j] > thresh else \"black\")\n",
        "        else:\n",
        "            plt.text(j, i, \"{:,}\".format(cm[i, j]),\n",
        "                     horizontalalignment=\"center\",\n",
        "                     color=\"white\" if cm[i, j] > thresh else \"black\")\n",
        "\n",
        "\n",
        "    plt.tight_layout()\n",
        "    plt.ylabel('True label')\n",
        "    plt.xlabel('Predicted label\\naccuracy={:0.4f}; misclass={:0.4f}'.format(accuracy, misclass))\n",
        "    plt.show()"
      ],
      "execution_count": null,
      "outputs": []
    },
    {
      "cell_type": "markdown",
      "metadata": {
        "id": "G07-ietOZwux",
        "colab_type": "text"
      },
      "source": [
        "# 0. Passive Aggressive Classifier -- 92.50%"
      ]
    },
    {
      "cell_type": "code",
      "metadata": {
        "id": "nvnlPMMEZebc",
        "colab_type": "code",
        "colab": {}
      },
      "source": [
        "import numpy as np\n",
        "import pandas as pd\n",
        "import itertools\n",
        "from sklearn.model_selection import train_test_split\n",
        "from sklearn.feature_extraction.text import TfidfVectorizer\n",
        "from sklearn.linear_model import PassiveAggressiveClassifier\n",
        "from sklearn.metrics import accuracy_score, confusion_matrix"
      ],
      "execution_count": null,
      "outputs": []
    },
    {
      "cell_type": "code",
      "metadata": {
        "id": "ehRAsX0VZh8v",
        "colab_type": "code",
        "colab": {
          "base_uri": "https://localhost:8080/",
          "height": 121
        },
        "outputId": "fb441264-8aaa-45f8-91c4-9a602f5f4daa"
      },
      "source": [
        "df2=df\n",
        "labels=df2.target\n",
        "labels.head()"
      ],
      "execution_count": null,
      "outputs": [
        {
          "output_type": "execute_result",
          "data": {
            "text/plain": [
              "0    0\n",
              "1    0\n",
              "2    1\n",
              "3    0\n",
              "4    1\n",
              "Name: target, dtype: int8"
            ]
          },
          "metadata": {
            "tags": []
          },
          "execution_count": 31
        }
      ]
    },
    {
      "cell_type": "code",
      "metadata": {
        "id": "j5cbv61LZjNw",
        "colab_type": "code",
        "colab": {}
      },
      "source": [
        "x_train,x_test,y_train,y_test=train_test_split(df2['text'], labels, test_size=0.2, random_state=7)\n",
        "\n",
        "tfidf_vectorizer=TfidfVectorizer(stop_words='english', max_df=0.7)\n",
        "#DataFlair - Fit and transform train set, transform test set\n",
        "tfidf_train=tfidf_vectorizer.fit_transform(x_train) \n",
        "tfidf_test=tfidf_vectorizer.transform(x_test)"
      ],
      "execution_count": null,
      "outputs": []
    },
    {
      "cell_type": "code",
      "metadata": {
        "id": "Vc0l-LdBZVdI",
        "colab_type": "code",
        "colab": {
          "base_uri": "https://localhost:8080/",
          "height": 34
        },
        "outputId": "bd09cbd5-410d-4dcb-e365-3d787b960d91"
      },
      "source": [
        "pac=PassiveAggressiveClassifier(max_iter=1000)\n",
        "pac.fit(tfidf_train,y_train)\n",
        "#DataFlair - Predict on the test set and calculate accuracy\n",
        "y_pred=pac.predict(tfidf_test)\n",
        "score=accuracy_score(y_test,y_pred)\n",
        "print(f'Accuracy: {round(score*100,2)}%')"
      ],
      "execution_count": null,
      "outputs": [
        {
          "output_type": "stream",
          "text": [
            "Accuracy: 92.5%\n"
          ],
          "name": "stdout"
        }
      ]
    },
    {
      "cell_type": "code",
      "metadata": {
        "id": "2zIjlzgjZuN7",
        "colab_type": "code",
        "colab": {
          "base_uri": "https://localhost:8080/",
          "height": 52
        },
        "outputId": "5cbc1e51-119b-440f-cf95-db8a49d581db"
      },
      "source": [
        "cm1=confusion_matrix(y_test,y_pred, labels=[0,1])\n",
        "cm1"
      ],
      "execution_count": null,
      "outputs": [
        {
          "output_type": "execute_result",
          "data": {
            "text/plain": [
              "array([[587,  51],\n",
              "       [ 44, 585]])"
            ]
          },
          "metadata": {
            "tags": []
          },
          "execution_count": 34
        }
      ]
    },
    {
      "cell_type": "code",
      "metadata": {
        "id": "vhG2mnMm8ICs",
        "colab_type": "code",
        "colab": {
          "base_uri": "https://localhost:8080/",
          "height": 467
        },
        "outputId": "d7909b65-249e-4998-f868-bc461aa37ce2"
      },
      "source": [
        "plot_confusion_matrix(cm1,\n",
        "                          target_names=[0,1],\n",
        "                          title='Confusion matrix',\n",
        "                          cmap=None,\n",
        "                          normalize=True)"
      ],
      "execution_count": null,
      "outputs": [
        {
          "output_type": "display_data",
          "data": {
            "image/png": "[encoded data removed]",
            "text/plain": [
              "<Figure size 576x432 with 2 Axes>"
            ]
          },
          "metadata": {
            "tags": [],
            "needs_background": "light"
          }
        }
      ]
    },
    {
      "cell_type": "markdown",
      "metadata": {
        "id": "TXRIjtDdquEF",
        "colab_type": "text"
      },
      "source": [
        "# 1.  Logistic Regression Classifier -- 90.38%"
      ]
    },
    {
      "cell_type": "code",
      "metadata": {
        "id": "47JqO1qnpr3C",
        "colab_type": "code",
        "colab": {
          "base_uri": "https://localhost:8080/",
          "height": 34
        },
        "outputId": "6c7c6740-606b-4794-f2ec-09def3572fc1"
      },
      "source": [
        "x_train,x_test,y_train,y_test = train_test_split(df['text'], df.target, test_size=0.1, random_state = 212)\n",
        "\n",
        "pipe = Pipeline([('vect', CountVectorizer()),\n",
        "                 ('tfidf', TfidfTransformer()),\n",
        "                 ('model', LogisticRegression())])\n",
        "\n",
        "model = pipe.fit(x_train, y_train)\n",
        "prediction = model.predict(x_test)\n",
        "print(\"accuracy: {}%\".format(round(accuracy_score(y_test, prediction)*100,2)))\n",
        "\n"
      ],
      "execution_count": null,
      "outputs": [
        {
          "output_type": "stream",
          "text": [
            "accuracy: 90.38%\n"
          ],
          "name": "stdout"
        }
      ]
    },
    {
      "cell_type": "code",
      "metadata": {
        "id": "nJIf95ppaORH",
        "colab_type": "code",
        "colab": {}
      },
      "source": [
        "cm1=confusion_matrix(y_test,prediction, labels=[0,1])"
      ],
      "execution_count": null,
      "outputs": []
    },
    {
      "cell_type": "code",
      "metadata": {
        "id": "vP1EEXLAgvxI",
        "colab_type": "code",
        "colab": {
          "base_uri": "https://localhost:8080/",
          "height": 467
        },
        "outputId": "d2572284-75e9-49ea-8db0-bc204a905299"
      },
      "source": [
        "plot_confusion_matrix(cm1,\n",
        "                          target_names=[0,1],\n",
        "                          title='Confusion matrix',\n",
        "                          cmap=None,\n",
        "                          normalize=True)"
      ],
      "execution_count": null,
      "outputs": [
        {
          "output_type": "display_data",
          "data": {
            "image/png": "[encoded data removed]",
            "text/plain": [
              "<Figure size 576x432 with 2 Axes>"
            ]
          },
          "metadata": {
            "tags": [],
            "needs_background": "light"
          }
        }
      ]
    },
    {
      "cell_type": "markdown",
      "metadata": {
        "id": "Vv_TPflAqpPy",
        "colab_type": "text"
      },
      "source": [
        "#2. Support Vector Classifier -- 93.69%"
      ]
    },
    {
      "cell_type": "code",
      "metadata": {
        "id": "tV-tbjHgqZZw",
        "colab_type": "code",
        "colab": {
          "base_uri": "https://localhost:8080/",
          "height": 34
        },
        "outputId": "209eabf0-9fec-41ee-dca5-93620b96e5e0"
      },
      "source": [
        "x_train,x_test,y_train,y_test = train_test_split(df['text'], df.target, test_size=0.2, random_state=2020)\n",
        "\n",
        "pipe = Pipeline([('vect', CountVectorizer()),\n",
        "                 ('tfidf', TfidfTransformer()),\n",
        "                 ('model', LinearSVC())])\n",
        "\n",
        "model = pipe.fit(x_train, y_train)\n",
        "prediction = model.predict(x_test)\n",
        "print(\"accuracy: {}%\".format(round(accuracy_score(y_test, prediction)*100,2)))"
      ],
      "execution_count": null,
      "outputs": [
        {
          "output_type": "stream",
          "text": [
            "accuracy: 93.69%\n"
          ],
          "name": "stdout"
        }
      ]
    },
    {
      "cell_type": "code",
      "metadata": {
        "id": "fI6C0yj6aiO6",
        "colab_type": "code",
        "colab": {}
      },
      "source": [
        "cm1=confusion_matrix(y_test,prediction, labels=[0,1])"
      ],
      "execution_count": null,
      "outputs": []
    },
    {
      "cell_type": "code",
      "metadata": {
        "id": "TxcNOu5ngz5m",
        "colab_type": "code",
        "colab": {
          "base_uri": "https://localhost:8080/",
          "height": 467
        },
        "outputId": "27d0b438-846f-49df-b514-7122b940f8e9"
      },
      "source": [
        "plot_confusion_matrix(cm1,\n",
        "                          target_names=[0,1],\n",
        "                          title='Confusion matrix',\n",
        "                          cmap=None,\n",
        "                          normalize=True)"
      ],
      "execution_count": null,
      "outputs": [
        {
          "output_type": "display_data",
          "data": {
            "image/png": "[encoded data removed]",
            "text/plain": [
              "<Figure size 576x432 with 2 Axes>"
            ]
          },
          "metadata": {
            "tags": [],
            "needs_background": "light"
          }
        }
      ]
    },
    {
      "cell_type": "markdown",
      "metadata": {
        "id": "k0JiXaLrq2Uo",
        "colab_type": "text"
      },
      "source": [
        "#3. Multinomial Naive Bayes Classifier -- 80.43%"
      ]
    },
    {
      "cell_type": "code",
      "metadata": {
        "id": "qkpgISASqkpn",
        "colab_type": "code",
        "colab": {
          "base_uri": "https://localhost:8080/",
          "height": 34
        },
        "outputId": "7757da1d-69a6-46fc-e718-82f8b02d9946"
      },
      "source": [
        "x_train,x_test,y_train,y_test = train_test_split(df['text'], df.target, test_size=0.2, random_state=2020)\n",
        "pipe = Pipeline([('vect', CountVectorizer()),\n",
        "                 ('tfidf', TfidfTransformer()),\n",
        "                 ('model', MultinomialNB())])\n",
        "\n",
        "model = pipe.fit(x_train, y_train)\n",
        "prediction = model.predict(x_test)\n",
        "print(\"accuracy: {}%\".format(round(accuracy_score(y_test, prediction)*100,2)))\n"
      ],
      "execution_count": null,
      "outputs": [
        {
          "output_type": "stream",
          "text": [
            "accuracy: 80.43%\n"
          ],
          "name": "stdout"
        }
      ]
    },
    {
      "cell_type": "code",
      "metadata": {
        "id": "di18K14jant9",
        "colab_type": "code",
        "colab": {}
      },
      "source": [
        "cm1=confusion_matrix(y_test,prediction, labels=[0,1])"
      ],
      "execution_count": null,
      "outputs": []
    },
    {
      "cell_type": "code",
      "metadata": {
        "id": "_bt5a_vWg4YB",
        "colab_type": "code",
        "colab": {
          "base_uri": "https://localhost:8080/",
          "height": 467
        },
        "outputId": "0e342bae-64e5-4527-d25d-aecaba959f78"
      },
      "source": [
        "plot_confusion_matrix(cm1,\n",
        "                          target_names=[0,1],\n",
        "                          title='Confusion matrix',\n",
        "                          cmap=None,\n",
        "                          normalize=True)"
      ],
      "execution_count": null,
      "outputs": [
        {
          "output_type": "display_data",
          "data": {
            "image/png": "[encoded data removed]",
            "text/plain": [
              "<Figure size 576x432 with 2 Axes>"
            ]
          },
          "metadata": {
            "tags": [],
            "needs_background": "light"
          }
        }
      ]
    },
    {
      "cell_type": "markdown",
      "metadata": {
        "id": "rXNaLGvvrGhe",
        "colab_type": "text"
      },
      "source": [
        "#4. Bernoulli Naive Bayes Classifier -- 81.29%"
      ]
    },
    {
      "cell_type": "code",
      "metadata": {
        "id": "GruQ3ucTrByK",
        "colab_type": "code",
        "colab": {
          "base_uri": "https://localhost:8080/",
          "height": 34
        },
        "outputId": "92e754dc-3c95-4abc-9883-cdbc7bb9e729"
      },
      "source": [
        "x_train,x_test,y_train,y_test = train_test_split(df['text'],  df.target, test_size=0.2, random_state=2020)\n",
        "pipe = Pipeline([('vect', CountVectorizer()),\n",
        "                 ('tfidf', TfidfTransformer()),\n",
        "                 ('model', BernoulliNB())])\n",
        "\n",
        "model = pipe.fit(x_train, y_train)\n",
        "prediction = model.predict(x_test)\n",
        "print(\"accuracy: {}%\".format(round(accuracy_score(y_test, prediction)*100,2)))"
      ],
      "execution_count": null,
      "outputs": [
        {
          "output_type": "stream",
          "text": [
            "accuracy: 81.29%\n"
          ],
          "name": "stdout"
        }
      ]
    },
    {
      "cell_type": "code",
      "metadata": {
        "id": "sirsUxXqar41",
        "colab_type": "code",
        "colab": {}
      },
      "source": [
        "cm1=confusion_matrix(y_test,prediction, labels=[0,1])"
      ],
      "execution_count": null,
      "outputs": []
    },
    {
      "cell_type": "code",
      "metadata": {
        "id": "uLxL1l9Eg_g9",
        "colab_type": "code",
        "colab": {
          "base_uri": "https://localhost:8080/",
          "height": 467
        },
        "outputId": "1f3b049c-b73e-4d71-a755-db8732ad9c5d"
      },
      "source": [
        "plot_confusion_matrix(cm1,\n",
        "                          target_names=[0,1],\n",
        "                          title='Confusion matrix',\n",
        "                          cmap=None,\n",
        "                          normalize=True)"
      ],
      "execution_count": null,
      "outputs": [
        {
          "output_type": "display_data",
          "data": {
            "image/png": "[encoded data removed]",
            "text/plain": [
              "<Figure size 576x432 with 2 Axes>"
            ]
          },
          "metadata": {
            "tags": [],
            "needs_background": "light"
          }
        }
      ]
    },
    {
      "cell_type": "markdown",
      "metadata": {
        "id": "OtBtYCENrRkx",
        "colab_type": "text"
      },
      "source": [
        "#5. Gradient Boost Classifier -- 80.58%"
      ]
    },
    {
      "cell_type": "code",
      "metadata": {
        "id": "CmzjQrV4rVSx",
        "colab_type": "code",
        "colab": {
          "base_uri": "https://localhost:8080/",
          "height": 34
        },
        "outputId": "184e565c-9c16-42de-8da9-c663b8f06dd1"
      },
      "source": [
        "x_train,x_test,y_train,y_test = train_test_split(df['text'],  df.target, test_size=0.2, random_state=2020)\n",
        "pipe = Pipeline([('vect', CountVectorizer()),\n",
        "                 ('tfidf', TfidfTransformer()),\n",
        "                 ('model', GradientBoostingClassifier(loss = 'deviance',\n",
        "                                                   learning_rate = 0.01,\n",
        "                                                   n_estimators = 10,\n",
        "                                                   max_depth = 5,\n",
        "                                                   random_state=55))])\n",
        "\n",
        "model = pipe.fit(x_train, y_train)\n",
        "prediction = model.predict(x_test)\n",
        "print(\"accuracy: {}%\".format(round(accuracy_score(y_test, prediction)*100,2)))"
      ],
      "execution_count": null,
      "outputs": [
        {
          "output_type": "stream",
          "text": [
            "accuracy: 80.58%\n"
          ],
          "name": "stdout"
        }
      ]
    },
    {
      "cell_type": "code",
      "metadata": {
        "id": "o1_tCMoaat2S",
        "colab_type": "code",
        "colab": {}
      },
      "source": [
        "cm1=confusion_matrix(y_test,prediction, labels=[0,1])"
      ],
      "execution_count": null,
      "outputs": []
    },
    {
      "cell_type": "code",
      "metadata": {
        "id": "5I3cJAqDhCzZ",
        "colab_type": "code",
        "colab": {
          "base_uri": "https://localhost:8080/",
          "height": 467
        },
        "outputId": "6fd1c5e3-34cd-4ec3-cad1-d2137080d847"
      },
      "source": [
        "plot_confusion_matrix(cm1,\n",
        "                          target_names=[0,1],\n",
        "                          title='Confusion matrix',\n",
        "                          cmap=None,\n",
        "                          normalize=True)"
      ],
      "execution_count": null,
      "outputs": [
        {
          "output_type": "display_data",
          "data": {
            "image/png": "[encoded data removed]",
            "text/plain": [
              "<Figure size 576x432 with 2 Axes>"
            ]
          },
          "metadata": {
            "tags": [],
            "needs_background": "light"
          }
        }
      ]
    },
    {
      "cell_type": "markdown",
      "metadata": {
        "id": "kl48KQXprbxh",
        "colab_type": "text"
      },
      "source": [
        "#6. XGBoost Classifier -- 80.51%"
      ]
    },
    {
      "cell_type": "code",
      "metadata": {
        "id": "BkaN33JYre_J",
        "colab_type": "code",
        "colab": {
          "base_uri": "https://localhost:8080/",
          "height": 34
        },
        "outputId": "1a16d7ee-2683-4717-deb5-b628815d57d3"
      },
      "source": [
        "x_train,x_test,y_train,y_test = train_test_split(df['text'],  df.target, test_size=0.2, random_state=2020)\n",
        "pipe = Pipeline([('vect', CountVectorizer()),\n",
        "                 ('tfidf', TfidfTransformer()),\n",
        "                 ('model', XGBClassifier(loss = 'deviance',\n",
        "                                                   learning_rate = 0.01,\n",
        "                                                   n_estimators = 10,\n",
        "                                                   max_depth = 5,\n",
        "                                                   random_state=2020))])\n",
        "\n",
        "model = pipe.fit(x_train, y_train)\n",
        "prediction = model.predict(x_test)\n",
        "print(\"accuracy: {}%\".format(round(accuracy_score(y_test, prediction)*100,2)))\n"
      ],
      "execution_count": null,
      "outputs": [
        {
          "output_type": "stream",
          "text": [
            "accuracy: 80.51%\n"
          ],
          "name": "stdout"
        }
      ]
    },
    {
      "cell_type": "code",
      "metadata": {
        "id": "9WH_dipdaweW",
        "colab_type": "code",
        "colab": {
          "base_uri": "https://localhost:8080/",
          "height": 52
        },
        "outputId": "3995cd7d-4ed2-4494-d4bb-7b87362a96c2"
      },
      "source": [
        "cm1=confusion_matrix(y_test,prediction, labels=[0,1])"
      ],
      "execution_count": null,
      "outputs": [
        {
          "output_type": "execute_result",
          "data": {
            "text/plain": [
              "array([[1259,  247],\n",
              "       [ 526,  758]])"
            ]
          },
          "metadata": {
            "tags": []
          },
          "execution_count": 50
        }
      ]
    },
    {
      "cell_type": "code",
      "metadata": {
        "id": "e0wzm6qYhFgW",
        "colab_type": "code",
        "colab": {
          "base_uri": "https://localhost:8080/",
          "height": 467
        },
        "outputId": "74b1d88a-8fb9-451e-e9be-0ee29f7d6eb8"
      },
      "source": [
        "plot_confusion_matrix(cm1,\n",
        "                          target_names=[0,1],\n",
        "                          title='Confusion matrix',\n",
        "                          cmap=None,\n",
        "                          normalize=True)"
      ],
      "execution_count": null,
      "outputs": [
        {
          "output_type": "display_data",
          "data": {
            "image/png": "[encoded data removed]",
            "text/plain": [
              "<Figure size 576x432 with 2 Axes>"
            ]
          },
          "metadata": {
            "tags": [],
            "needs_background": "light"
          }
        }
      ]
    },
    {
      "cell_type": "markdown",
      "metadata": {
        "id": "3phS81Y1rk4b",
        "colab_type": "text"
      },
      "source": [
        "#7. Stochastic Gradient Descent -- 93.61%"
      ]
    },
    {
      "cell_type": "code",
      "metadata": {
        "id": "NU2WB2cxrnra",
        "colab_type": "code",
        "colab": {
          "base_uri": "https://localhost:8080/",
          "height": 34
        },
        "outputId": "0c2f3917-b6be-4505-fad1-72bb2912c2e6"
      },
      "source": [
        "x_train,x_test,y_train,y_test = train_test_split(df['text'],  df.target, test_size=0.2, random_state=2020)\n",
        "pipe = Pipeline([('vect', CountVectorizer()),\n",
        "                 ('tfidf', TfidfTransformer()),\n",
        "                 ('model', SGDClassifier())])\n",
        "\n",
        "model = pipe.fit(x_train, y_train)\n",
        "prediction = model.predict(x_test)\n",
        "print(\"accuracy: {}%\".format(round(accuracy_score(y_test, prediction)*100,2)))"
      ],
      "execution_count": null,
      "outputs": [
        {
          "output_type": "stream",
          "text": [
            "accuracy: 93.61%\n"
          ],
          "name": "stdout"
        }
      ]
    },
    {
      "cell_type": "code",
      "metadata": {
        "id": "VE8gvsu0nUeU",
        "colab_type": "code",
        "colab": {}
      },
      "source": [
        "cm1=confusion_matrix(y_test,prediction, labels=[0,1])"
      ],
      "execution_count": null,
      "outputs": []
    },
    {
      "cell_type": "code",
      "metadata": {
        "id": "zLPJfNXwhIuy",
        "colab_type": "code",
        "colab": {
          "base_uri": "https://localhost:8080/",
          "height": 467
        },
        "outputId": "8fe65665-c0ac-40a9-d5b7-5cfdefc43f65"
      },
      "source": [
        "plot_confusion_matrix(cm1,\n",
        "                          target_names=[0,1],\n",
        "                          title='Confusion matrix',\n",
        "                          cmap=None,\n",
        "                          normalize=True)"
      ],
      "execution_count": null,
      "outputs": [
        {
          "output_type": "display_data",
          "data": {
            "image/png": "[encoded data removed]",
            "text/plain": [
              "<Figure size 576x432 with 2 Axes>"
            ]
          },
          "metadata": {
            "tags": [],
            "needs_background": "light"
          }
        }
      ]
    },
    {
      "cell_type": "markdown",
      "metadata": {
        "id": "zecw0yKAr0VX",
        "colab_type": "text"
      },
      "source": [
        "# 8. Decision Tree -- 79.79%"
      ]
    },
    {
      "cell_type": "code",
      "metadata": {
        "id": "gMy43af1rvSk",
        "colab_type": "code",
        "colab": {
          "base_uri": "https://localhost:8080/",
          "height": 34
        },
        "outputId": "49390c25-1dda-4914-c94f-15d8b93eee15"
      },
      "source": [
        "x_train,x_test,y_train,y_test = train_test_split(df['text'],  df.target, test_size=0.2, random_state=2020)\n",
        "\n",
        "pipe = Pipeline([('vect', CountVectorizer()),\n",
        "                 ('tfidf', TfidfTransformer()),\n",
        "                 ('model', DecisionTreeClassifier(criterion= 'entropy',\n",
        "                                           max_depth = 10, \n",
        "                                           splitter='best', \n",
        "                                           random_state=2020))])\n",
        "\n",
        "model = pipe.fit(x_train, y_train)\n",
        "prediction = model.predict(x_test)\n",
        "print(\"accuracy: {}%\".format(round(accuracy_score(y_test, prediction)*100,2)))"
      ],
      "execution_count": null,
      "outputs": [
        {
          "output_type": "stream",
          "text": [
            "accuracy: 79.79%\n"
          ],
          "name": "stdout"
        }
      ]
    },
    {
      "cell_type": "code",
      "metadata": {
        "id": "r8MRhlBknY5n",
        "colab_type": "code",
        "colab": {}
      },
      "source": [
        "cm1=confusion_matrix(y_test,prediction, labels=[0,1])"
      ],
      "execution_count": null,
      "outputs": []
    },
    {
      "cell_type": "code",
      "metadata": {
        "id": "PwmR9H1whMe5",
        "colab_type": "code",
        "colab": {
          "base_uri": "https://localhost:8080/",
          "height": 467
        },
        "outputId": "541a7fa5-1747-43d1-8952-593f49eae9fb"
      },
      "source": [
        "plot_confusion_matrix(cm1,\n",
        "                          target_names=[0,1],\n",
        "                          title='Confusion matrix',\n",
        "                          cmap=None,\n",
        "                          normalize=True)"
      ],
      "execution_count": null,
      "outputs": [
        {
          "output_type": "display_data",
          "data": {
            "image/png": "[encoded data removed]",
            "text/plain": [
              "<Figure size 576x432 with 2 Axes>"
            ]
          },
          "metadata": {
            "tags": [],
            "needs_background": "light"
          }
        }
      ]
    },
    {
      "cell_type": "markdown",
      "metadata": {
        "id": "bKBQFHF5r8vi",
        "colab_type": "text"
      },
      "source": [
        "#9. Random Forest Classifier -- 90.45%"
      ]
    },
    {
      "cell_type": "code",
      "metadata": {
        "id": "8B5zTgrqr9-n",
        "colab_type": "code",
        "colab": {
          "base_uri": "https://localhost:8080/",
          "height": 34
        },
        "outputId": "2ae569d5-39da-49ef-82ee-5c85acc88fee"
      },
      "source": [
        "x_train,x_test,y_train,y_test = train_test_split(df['text'],  df.target, test_size=0.2, random_state=2020)\n",
        "\n",
        "pipe = Pipeline([('vect', CountVectorizer()),\n",
        "                 ('tfidf', TfidfTransformer()),\n",
        "                 ('model', RandomForestClassifier())])\n",
        "\n",
        "model = pipe.fit(x_train, y_train)\n",
        "prediction = model.predict(x_test)\n",
        "print(\"accuracy: {}%\".format(round(accuracy_score(y_test, prediction)*100,2)))"
      ],
      "execution_count": null,
      "outputs": [
        {
          "output_type": "stream",
          "text": [
            "accuracy: 90.45%\n"
          ],
          "name": "stdout"
        }
      ]
    },
    {
      "cell_type": "code",
      "metadata": {
        "id": "Av53mWYMng5d",
        "colab_type": "code",
        "colab": {}
      },
      "source": [
        "cm1=confusion_matrix(y_test,prediction, labels=[0,1])"
      ],
      "execution_count": null,
      "outputs": []
    },
    {
      "cell_type": "code",
      "metadata": {
        "id": "b5j5bZ18hPYH",
        "colab_type": "code",
        "colab": {
          "base_uri": "https://localhost:8080/",
          "height": 467
        },
        "outputId": "d4b6ce96-ae3d-45bc-a52d-3ad75ba720ab"
      },
      "source": [
        "plot_confusion_matrix(cm1,\n",
        "                          target_names=[0,1],\n",
        "                          title='Confusion matrix',\n",
        "                          cmap=None,\n",
        "                          normalize=True)"
      ],
      "execution_count": null,
      "outputs": [
        {
          "output_type": "display_data",
          "data": {
            "image/png": "[encoded data removed]",
            "text/plain": [
              "<Figure size 576x432 with 2 Axes>"
            ]
          },
          "metadata": {
            "tags": [],
            "needs_background": "light"
          }
        }
      ]
    },
    {
      "cell_type": "markdown",
      "metadata": {
        "id": "96_YPMEQsF5b",
        "colab_type": "text"
      },
      "source": [
        "#10. KNN Classifier -- 80.19%"
      ]
    },
    {
      "cell_type": "code",
      "metadata": {
        "id": "ROhDiK1UsG99",
        "colab_type": "code",
        "colab": {
          "base_uri": "https://localhost:8080/",
          "height": 34
        },
        "outputId": "7bf20048-7bd8-4651-f1cf-1b49df30a519"
      },
      "source": [
        "pipe = Pipeline([('vect', CountVectorizer()),\n",
        "                 ('tfidf', TfidfTransformer()),\n",
        "                 ('model', KNeighborsClassifier(n_neighbors = 10,weights = 'distance',algorithm = 'auto'))])\n",
        "\n",
        "model = pipe.fit(x_train, y_train)\n",
        "prediction = model.predict(x_test)\n",
        "print(\"accuracy: {}%\".format(round(accuracy_score(y_test, prediction)*100,2)))"
      ],
      "execution_count": null,
      "outputs": [
        {
          "output_type": "stream",
          "text": [
            "accuracy: 80.19%\n"
          ],
          "name": "stdout"
        }
      ]
    },
    {
      "cell_type": "code",
      "metadata": {
        "id": "r1kHiuwAnsCC",
        "colab_type": "code",
        "colab": {}
      },
      "source": [
        "cm1=confusion_matrix(y_test,prediction, labels=[0,1])"
      ],
      "execution_count": null,
      "outputs": []
    },
    {
      "cell_type": "code",
      "metadata": {
        "id": "xSjnUWD6hSQT",
        "colab_type": "code",
        "colab": {
          "base_uri": "https://localhost:8080/",
          "height": 467
        },
        "outputId": "258b717a-f81b-4d71-9b41-557c6aee7be1"
      },
      "source": [
        "plot_confusion_matrix(cm1,\n",
        "                          target_names=[0,1],\n",
        "                          title='Confusion matrix',\n",
        "                          cmap=None,\n",
        "                          normalize=True)"
      ],
      "execution_count": null,
      "outputs": [
        {
          "output_type": "display_data",
          "data": {
            "image/png": "[encoded data removed]",
            "text/plain": [
              "<Figure size 576x432 with 2 Axes>"
            ]
          },
          "metadata": {
            "tags": [],
            "needs_background": "light"
          }
        }
      ]
    },
    {
      "cell_type": "markdown",
      "metadata": {
        "id": "rpTwWoShthc8",
        "colab_type": "text"
      },
      "source": [
        "#11. BERT -- 96.52%"
      ]
    },
    {
      "cell_type": "code",
      "metadata": {
        "id": "29Ji_HibtrO0",
        "colab_type": "code",
        "colab": {}
      },
      "source": [
        "df_train = pd.read_csv('news.csv')#, dtype={'Unnamed: 0': np.int16, 'label': np.int8})"
      ],
      "execution_count": null,
      "outputs": []
    },
    {
      "cell_type": "code",
      "metadata": {
        "id": "BBUZa5CIzQ7w",
        "colab_type": "code",
        "colab": {}
      },
      "source": [
        "df_train[\"label\"]= df_train[\"label\"].replace('FAKE', 0)\n",
        "df_train[\"label\"]= df_train[\"label\"].replace('REAL', 1)\n",
        "df_train['label']=df_train['label'].astype(np.int8)"
      ],
      "execution_count": null,
      "outputs": []
    },
    {
      "cell_type": "code",
      "metadata": {
        "id": "xGlONFLszrGs",
        "colab_type": "code",
        "colab": {}
      },
      "source": [
        "df_train['Unnamed: 0']=df_train['Unnamed: 0'].astype(np.int16)"
      ],
      "execution_count": null,
      "outputs": []
    },
    {
      "cell_type": "code",
      "metadata": {
        "id": "ZPttWt6T8Tbd",
        "colab_type": "code",
        "colab": {}
      },
      "source": [
        "df_train=df_train.rename(columns={\"Unnamed: 0\": \"id\", \"label\": \"target\"})"
      ],
      "execution_count": null,
      "outputs": []
    },
    {
      "cell_type": "code",
      "metadata": {
        "id": "iTGoyZqV1JbP",
        "colab_type": "code",
        "colab": {
          "base_uri": "https://localhost:8080/",
          "height": 167
        },
        "outputId": "6bf710d8-bc42-4bb7-bee0-a5eed4aa820c"
      },
      "source": [
        "print('Training Set Shape = {}'.format(df_train.shape))"
      ],
      "execution_count": null,
      "outputs": [
        {
          "output_type": "error",
          "ename": "NameError",
          "evalue": "ignored",
          "traceback": [
            "\u001b[0;31m---------------------------------------------------------------------------\u001b[0m",
            "\u001b[0;31mNameError\u001b[0m                                 Traceback (most recent call last)",
            "\u001b[0;32m<ipython-input-6-1d24465e3ec9>\u001b[0m in \u001b[0;36m<module>\u001b[0;34m()\u001b[0m\n\u001b[0;32m----> 1\u001b[0;31m \u001b[0mprint\u001b[0m\u001b[0;34m(\u001b[0m\u001b[0;34m'Training Set Shape = {}'\u001b[0m\u001b[0;34m.\u001b[0m\u001b[0mformat\u001b[0m\u001b[0;34m(\u001b[0m\u001b[0mdf_train\u001b[0m\u001b[0;34m.\u001b[0m\u001b[0mshape\u001b[0m\u001b[0;34m)\u001b[0m\u001b[0;34m)\u001b[0m\u001b[0;34m\u001b[0m\u001b[0;34m\u001b[0m\u001b[0m\n\u001b[0m",
            "\u001b[0;31mNameError\u001b[0m: name 'df_train' is not defined"
          ]
        }
      ]
    },
    {
      "cell_type": "code",
      "metadata": {
        "id": "9DT5F4zh5uL7",
        "colab_type": "code",
        "colab": {}
      },
      "source": [
        "df_train=df"
      ],
      "execution_count": null,
      "outputs": []
    },
    {
      "cell_type": "code",
      "metadata": {
        "id": "3eg3RykwdXLR",
        "colab_type": "code",
        "colab": {
          "base_uri": "https://localhost:8080/",
          "height": 336
        },
        "outputId": "069c2c47-b037-4223-92a1-2b21d7997e2e"
      },
      "source": [
        "import matplotlib.pyplot as plt\n",
        "\n",
        "Real_len = df_train[df_train['target'] == 1].shape[0]\n",
        "Not_len = df_train[df_train['target'] == 0].shape[0]\n",
        "\n",
        "# bar plot of the 3 classes\n",
        "plt.rcParams['figure.figsize'] = (7, 5)\n",
        "plt.bar(10,Real_len,3, label=\"Real\", color='blue')\n",
        "plt.bar(15,Not_len,3, label=\"Fake\", color='red')\n",
        "plt.legend()\n",
        "plt.ylabel('Number of examples')\n",
        "plt.title('Propertion of examples')\n",
        "plt.show()"
      ],
      "execution_count": null,
      "outputs": [
        {
          "output_type": "display_data",
          "data": {
            "image/png": "[encoded data removed]",
            "text/plain": [
              "<Figure size 504x360 with 1 Axes>"
            ]
          },
          "metadata": {
            "tags": [],
            "needs_background": "light"
          }
        }
      ]
    },
    {
      "cell_type": "code",
      "metadata": {
        "id": "i_72CMfWd4qv",
        "colab_type": "code",
        "colab": {
          "base_uri": "https://localhost:8080/",
          "height": 388
        },
        "outputId": "1b78b5a5-6e63-4a9b-cd81-e3b9ca066604"
      },
      "source": [
        "def length(text):    \n",
        "    '''a function which returns the length of text'''\n",
        "    return len(text)\n",
        "df_train['length'] = df_train['text'].apply(length)\n",
        "\n",
        "plt.rcParams['figure.figsize'] = (18.0, 6.0)\n",
        "bins = 500\n",
        "plt.hist(df_train[df_train['target'] == 0]['length'], alpha = 0.6, bins=bins, label='Fake')\n",
        "plt.hist(df_train[df_train['target'] == 1]['length'], alpha = 0.8, bins=bins, label='Real')\n",
        "plt.xlabel('length')\n",
        "plt.ylabel('numbers')\n",
        "plt.legend(loc='upper right')\n",
        "plt.xlim(0,20000)\n",
        "plt.grid()\n",
        "plt.show()\n"
      ],
      "execution_count": null,
      "outputs": [
        {
          "output_type": "display_data",
          "data": {
            "image/png": "[encoded data removed]",
            "text/plain": [
              "<Figure size 1296x432 with 1 Axes>"
            ]
          },
          "metadata": {
            "tags": [],
            "needs_background": "light"
          }
        }
      ]
    },
    {
      "cell_type": "code",
      "metadata": {
        "id": "35p5F0C6d4nm",
        "colab_type": "code",
        "colab": {
          "base_uri": "https://localhost:8080/",
          "height": 356
        },
        "outputId": "1b15039d-ff06-4838-d650-11bcefd183a6"
      },
      "source": [
        "fig,(ax1,ax2)=plt.subplots(1,2,figsize=(10,5))\n",
        "df_train_len=df_train[df_train['target']==1]['text'].str.len()\n",
        "ax1.hist(df_train_len,color='blue')\n",
        "ax1.set_title('Real')\n",
        "df_train_len=df_train[df_train['target']==0]['text'].str.len()\n",
        "ax2.hist(df_train_len,color='red')\n",
        "ax2.set_title('Fake')\n",
        "fig.suptitle('Real Or fake')\n",
        "plt.show()"
      ],
      "execution_count": null,
      "outputs": [
        {
          "output_type": "display_data",
          "data": {
            "image/png": "[encoded data removed]",
            "text/plain": [
              "<Figure size 720x360 with 2 Axes>"
            ]
          },
          "metadata": {
            "tags": [],
            "needs_background": "light"
          }
        }
      ]
    },
    {
      "cell_type": "code",
      "metadata": {
        "id": "-DWl2RjPeyAq",
        "colab_type": "code",
        "colab": {
          "base_uri": "https://localhost:8080/",
          "height": 356
        },
        "outputId": "244564f1-c51b-4921-e2f5-c2d6e15dbc36"
      },
      "source": [
        "fig,(ax1,ax2)=plt.subplots(1,2,figsize=(10,5))\n",
        "df_train_len=df_train[df_train['target']==1]['text'].str.split().map(lambda x: len(x))\n",
        "ax1.hist(df_train_len,color='blue')\n",
        "ax1.set_title('Real')\n",
        "df_train_len=df_train[df_train['target']==0]['text'].str.split().map(lambda x: len(x))\n",
        "ax2.hist(df_train_len,color='red')\n",
        "ax2.set_title('Fake')\n",
        "fig.suptitle('Words in a Text')\n",
        "plt.show()"
      ],
      "execution_count": null,
      "outputs": [
        {
          "output_type": "display_data",
          "data": {
            "image/png": "[encoded data removed]",
            "text/plain": [
              "<Figure size 720x360 with 2 Axes>"
            ]
          },
          "metadata": {
            "tags": [],
            "needs_background": "light"
          }
        }
      ]
    },
    {
      "cell_type": "code",
      "metadata": {
        "id": "SK9pHxMVfFpk",
        "colab_type": "code",
        "colab": {
          "base_uri": "https://localhost:8080/",
          "height": 387
        },
        "outputId": "98012943-29e8-47f6-c610-96b8f2daaa8f"
      },
      "source": [
        "import seaborn as sns\n",
        "fig,(ax1,ax2)=plt.subplots(1,2,figsize=(10,5))\n",
        "word=df_train[df_train['target']==1]['text'].str.split().apply(lambda x : [len(i) for i in x])\n",
        "sns.distplot(word.map(lambda x: np.mean(x)),ax=ax1,color='blue')\n",
        "ax1.set_title('Real')\n",
        "word=df_train[df_train['target']==0]['text'].str.split().apply(lambda x : [len(i) for i in x])\n",
        "sns.distplot(word.map(lambda x: np.mean(x)),ax=ax2,color='red')\n",
        "ax2.set_title('Fake')\n",
        "fig.suptitle('Average word length in each Text')"
      ],
      "execution_count": null,
      "outputs": [
        {
          "output_type": "execute_result",
          "data": {
            "text/plain": [
              "Text(0.5, 0.98, 'Average word length in each Text')"
            ]
          },
          "metadata": {
            "tags": []
          },
          "execution_count": 72
        },
        {
          "output_type": "display_data",
          "data": {
            "image/png": "[encoded data removed]",
            "text/plain": [
              "<Figure size 720x360 with 2 Axes>"
            ]
          },
          "metadata": {
            "tags": [],
            "needs_background": "light"
          }
        }
      ]
    },
    {
      "cell_type": "code",
      "metadata": {
        "id": "I8VEt05jfdgm",
        "colab_type": "code",
        "colab": {}
      },
      "source": [
        ""
      ],
      "execution_count": null,
      "outputs": []
    },
    {
      "cell_type": "code",
      "metadata": {
        "id": "DHIf7l_wfdpQ",
        "colab_type": "code",
        "colab": {}
      },
      "source": [
        ""
      ],
      "execution_count": null,
      "outputs": []
    },
    {
      "cell_type": "code",
      "metadata": {
        "id": "1NvRIfTU84yy",
        "colab_type": "code",
        "colab": {}
      },
      "source": [
        "!wget --quiet https://raw.githubusercontent.com/tensorflow/models/master/official/nlp/bert/tokenization.py"
      ],
      "execution_count": null,
      "outputs": []
    },
    {
      "cell_type": "code",
      "metadata": {
        "id": "BlKq4nOx9EqM",
        "colab_type": "code",
        "colab": {
          "base_uri": "https://localhost:8080/",
          "height": 124
        },
        "outputId": "69eb2d5a-bc33-4d6f-83a5-e5217906be91"
      },
      "source": [
        "!pip3 install sentencepiece"
      ],
      "execution_count": null,
      "outputs": [
        {
          "output_type": "stream",
          "text": [
            "Collecting sentencepiece\n",
            "\u001b[?25l  Downloading https://files.pythonhosted.org/packages/98/2c/8df20f3ac6c22ac224fff307ebc102818206c53fc454ecd37d8ac2060df5/sentencepiece-0.1.86-cp36-cp36m-manylinux1_x86_64.whl (1.0MB)\n",
            "\r\u001b[K     |▎                               | 10kB 17.4MB/s eta 0:00:01\r\u001b[K     |▋                               | 20kB 2.1MB/s eta 0:00:01\r\u001b[K     |█                               | 30kB 2.7MB/s eta 0:00:01\r\u001b[K     |█▎                              | 40kB 3.0MB/s eta 0:00:01\r\u001b[K     |█▋                              | 51kB 2.4MB/s eta 0:00:01\r\u001b[K     |██                              | 61kB 2.7MB/s eta 0:00:01\r\u001b[K     |██▏                             | 71kB 3.0MB/s eta 0:00:01\r\u001b[K     |██▌                             | 81kB 3.1MB/s eta 0:00:01\r\u001b[K     |██▉                             | 92kB 3.4MB/s eta 0:00:01\r\u001b[K     |███▏                            | 102kB 3.4MB/s eta 0:00:01\r\u001b[K     |███▌                            | 112kB 3.4MB/s eta 0:00:01\r\u001b[K     |███▉                            | 122kB 3.4MB/s eta 0:00:01\r\u001b[K     |████                            | 133kB 3.4MB/s eta 0:00:01\r\u001b[K     |████▍                           | 143kB 3.4MB/s eta 0:00:01\r\u001b[K     |████▊                           | 153kB 3.4MB/s eta 0:00:01\r\u001b[K     |█████                           | 163kB 3.4MB/s eta 0:00:01\r\u001b[K     |█████▍                          | 174kB 3.4MB/s eta 0:00:01\r\u001b[K     |█████▊                          | 184kB 3.4MB/s eta 0:00:01\r\u001b[K     |██████                          | 194kB 3.4MB/s eta 0:00:01\r\u001b[K     |██████▎                         | 204kB 3.4MB/s eta 0:00:01\r\u001b[K     |██████▋                         | 215kB 3.4MB/s eta 0:00:01\r\u001b[K     |███████                         | 225kB 3.4MB/s eta 0:00:01\r\u001b[K     |███████▎                        | 235kB 3.4MB/s eta 0:00:01\r\u001b[K     |███████▋                        | 245kB 3.4MB/s eta 0:00:01\r\u001b[K     |███████▉                        | 256kB 3.4MB/s eta 0:00:01\r\u001b[K     |████████▏                       | 266kB 3.4MB/s eta 0:00:01\r\u001b[K     |████████▌                       | 276kB 3.4MB/s eta 0:00:01\r\u001b[K     |████████▉                       | 286kB 3.4MB/s eta 0:00:01\r\u001b[K     |█████████▏                      | 296kB 3.4MB/s eta 0:00:01\r\u001b[K     |█████████▌                      | 307kB 3.4MB/s eta 0:00:01\r\u001b[K     |█████████▊                      | 317kB 3.4MB/s eta 0:00:01\r\u001b[K     |██████████                      | 327kB 3.4MB/s eta 0:00:01\r\u001b[K     |██████████▍                     | 337kB 3.4MB/s eta 0:00:01\r\u001b[K     |██████████▊                     | 348kB 3.4MB/s eta 0:00:01\r\u001b[K     |███████████                     | 358kB 3.4MB/s eta 0:00:01\r\u001b[K     |███████████▍                    | 368kB 3.4MB/s eta 0:00:01\r\u001b[K     |███████████▋                    | 378kB 3.4MB/s eta 0:00:01\r\u001b[K     |████████████                    | 389kB 3.4MB/s eta 0:00:01\r\u001b[K     |████████████▎                   | 399kB 3.4MB/s eta 0:00:01\r\u001b[K     |████████████▋                   | 409kB 3.4MB/s eta 0:00:01\r\u001b[K     |█████████████                   | 419kB 3.4MB/s eta 0:00:01\r\u001b[K     |█████████████▎                  | 430kB 3.4MB/s eta 0:00:01\r\u001b[K     |█████████████▌                  | 440kB 3.4MB/s eta 0:00:01\r\u001b[K     |█████████████▉                  | 450kB 3.4MB/s eta 0:00:01\r\u001b[K     |██████████████▏                 | 460kB 3.4MB/s eta 0:00:01\r\u001b[K     |██████████████▌                 | 471kB 3.4MB/s eta 0:00:01\r\u001b[K     |██████████████▉                 | 481kB 3.4MB/s eta 0:00:01\r\u001b[K     |███████████████▏                | 491kB 3.4MB/s eta 0:00:01\r\u001b[K     |███████████████▍                | 501kB 3.4MB/s eta 0:00:01\r\u001b[K     |███████████████▊                | 512kB 3.4MB/s eta 0:00:01\r\u001b[K     |████████████████                | 522kB 3.4MB/s eta 0:00:01\r\u001b[K     |████████████████▍               | 532kB 3.4MB/s eta 0:00:01\r\u001b[K     |████████████████▊               | 542kB 3.4MB/s eta 0:00:01\r\u001b[K     |█████████████████               | 552kB 3.4MB/s eta 0:00:01\r\u001b[K     |█████████████████▎              | 563kB 3.4MB/s eta 0:00:01\r\u001b[K     |█████████████████▋              | 573kB 3.4MB/s eta 0:00:01\r\u001b[K     |██████████████████              | 583kB 3.4MB/s eta 0:00:01\r\u001b[K     |██████████████████▎             | 593kB 3.4MB/s eta 0:00:01\r\u001b[K     |██████████████████▋             | 604kB 3.4MB/s eta 0:00:01\r\u001b[K     |███████████████████             | 614kB 3.4MB/s eta 0:00:01\r\u001b[K     |███████████████████▏            | 624kB 3.4MB/s eta 0:00:01\r\u001b[K     |███████████████████▌            | 634kB 3.4MB/s eta 0:00:01\r\u001b[K     |███████████████████▉            | 645kB 3.4MB/s eta 0:00:01\r\u001b[K     |████████████████████▏           | 655kB 3.4MB/s eta 0:00:01\r\u001b[K     |████████████████████▌           | 665kB 3.4MB/s eta 0:00:01\r\u001b[K     |████████████████████▉           | 675kB 3.4MB/s eta 0:00:01\r\u001b[K     |█████████████████████▏          | 686kB 3.4MB/s eta 0:00:01\r\u001b[K     |█████████████████████▍          | 696kB 3.4MB/s eta 0:00:01\r\u001b[K     |█████████████████████▊          | 706kB 3.4MB/s eta 0:00:01\r\u001b[K     |██████████████████████          | 716kB 3.4MB/s eta 0:00:01\r\u001b[K     |██████████████████████▍         | 727kB 3.4MB/s eta 0:00:01\r\u001b[K     |██████████████████████▊         | 737kB 3.4MB/s eta 0:00:01\r\u001b[K     |███████████████████████         | 747kB 3.4MB/s eta 0:00:01\r\u001b[K     |███████████████████████▎        | 757kB 3.4MB/s eta 0:00:01\r\u001b[K     |███████████████████████▋        | 768kB 3.4MB/s eta 0:00:01\r\u001b[K     |████████████████████████        | 778kB 3.4MB/s eta 0:00:01\r\u001b[K     |████████████████████████▎       | 788kB 3.4MB/s eta 0:00:01\r\u001b[K     |████████████████████████▋       | 798kB 3.4MB/s eta 0:00:01\r\u001b[K     |█████████████████████████       | 808kB 3.4MB/s eta 0:00:01\r\u001b[K     |█████████████████████████▏      | 819kB 3.4MB/s eta 0:00:01\r\u001b[K     |█████████████████████████▌      | 829kB 3.4MB/s eta 0:00:01\r\u001b[K     |█████████████████████████▉      | 839kB 3.4MB/s eta 0:00:01\r\u001b[K     |██████████████████████████▏     | 849kB 3.4MB/s eta 0:00:01\r\u001b[K     |██████████████████████████▌     | 860kB 3.4MB/s eta 0:00:01\r\u001b[K     |██████████████████████████▉     | 870kB 3.4MB/s eta 0:00:01\r\u001b[K     |███████████████████████████     | 880kB 3.4MB/s eta 0:00:01\r\u001b[K     |███████████████████████████▍    | 890kB 3.4MB/s eta 0:00:01\r\u001b[K     |███████████████████████████▊    | 901kB 3.4MB/s eta 0:00:01\r\u001b[K     |████████████████████████████    | 911kB 3.4MB/s eta 0:00:01\r\u001b[K     |████████████████████████████▍   | 921kB 3.4MB/s eta 0:00:01\r\u001b[K     |████████████████████████████▊   | 931kB 3.4MB/s eta 0:00:01\r\u001b[K     |█████████████████████████████   | 942kB 3.4MB/s eta 0:00:01\r\u001b[K     |█████████████████████████████▎  | 952kB 3.4MB/s eta 0:00:01\r\u001b[K     |█████████████████████████████▋  | 962kB 3.4MB/s eta 0:00:01\r\u001b[K     |██████████████████████████████  | 972kB 3.4MB/s eta 0:00:01\r\u001b[K     |██████████████████████████████▎ | 983kB 3.4MB/s eta 0:00:01\r\u001b[K     |██████████████████████████████▋ | 993kB 3.4MB/s eta 0:00:01\r\u001b[K     |██████████████████████████████▉ | 1.0MB 3.4MB/s eta 0:00:01\r\u001b[K     |███████████████████████████████▏| 1.0MB 3.4MB/s eta 0:00:01\r\u001b[K     |███████████████████████████████▌| 1.0MB 3.4MB/s eta 0:00:01\r\u001b[K     |███████████████████████████████▉| 1.0MB 3.4MB/s eta 0:00:01\r\u001b[K     |████████████████████████████████| 1.0MB 3.4MB/s \n",
            "\u001b[?25hInstalling collected packages: sentencepiece\n",
            "Successfully installed sentencepiece-0.1.86\n"
          ],
          "name": "stdout"
        }
      ]
    },
    {
      "cell_type": "code",
      "metadata": {
        "id": "nqyIZBKd6Yfr",
        "colab_type": "code",
        "colab": {}
      },
      "source": [
        "import numpy as np\n",
        "import pandas as pd\n",
        "import tensorflow as tf\n",
        "from tensorflow.keras.layers import Dense, Input\n",
        "from tensorflow.keras.optimizers import Adam\n",
        "from tensorflow.keras.models import Model\n",
        "from tensorflow.keras.callbacks import ModelCheckpoint\n",
        "import tensorflow_hub as hub\n",
        "\n",
        "import tokenization"
      ],
      "execution_count": null,
      "outputs": []
    },
    {
      "cell_type": "code",
      "metadata": {
        "id": "GDv1RN6Y7Qou",
        "colab_type": "code",
        "colab": {}
      },
      "source": [
        "def bert_encode(texts, tokenizer, max_len=512):\n",
        "    all_tokens = []\n",
        "    all_masks = []\n",
        "    all_segments = []\n",
        "    \n",
        "    for text in texts:\n",
        "        text = tokenizer.tokenize(text)\n",
        "            \n",
        "        text = text[:max_len-2]\n",
        "        input_sequence = [\"[CLS]\"] + text + [\"[SEP]\"]\n",
        "        pad_len = max_len - len(input_sequence)\n",
        "        \n",
        "        tokens = tokenizer.convert_tokens_to_ids(input_sequence)\n",
        "        tokens += [0] * pad_len\n",
        "        pad_masks = [1] * len(input_sequence) + [0] * pad_len\n",
        "        segment_ids = [0] * max_len\n",
        "        \n",
        "        all_tokens.append(tokens)\n",
        "        all_masks.append(pad_masks)\n",
        "        all_segments.append(segment_ids)\n",
        "    \n",
        "    return np.array(all_tokens), np.array(all_masks), np.array(all_segments)"
      ],
      "execution_count": null,
      "outputs": []
    },
    {
      "cell_type": "code",
      "metadata": {
        "id": "KeoAoPSY7giU",
        "colab_type": "code",
        "colab": {}
      },
      "source": [
        "def build_model(bert_layer, max_len=512):\n",
        "    input_word_ids = Input(shape=(max_len,), dtype=tf.int32, name=\"input_word_ids\")\n",
        "    input_mask = Input(shape=(max_len,), dtype=tf.int32, name=\"input_mask\")\n",
        "    segment_ids = Input(shape=(max_len,), dtype=tf.int32, name=\"segment_ids\")\n",
        "\n",
        "    _, sequence_output = bert_layer([input_word_ids, input_mask, segment_ids])\n",
        "    clf_output = sequence_output[:, 0, :]\n",
        "    out = Dense(1, activation='sigmoid')(clf_output)\n",
        "    \n",
        "    model = Model(inputs=[input_word_ids, input_mask, segment_ids], outputs=out)\n",
        "    model.compile(Adam(lr=2e-6), loss='binary_crossentropy', metrics=['accuracy'])\n",
        "    \n",
        "    return model"
      ],
      "execution_count": null,
      "outputs": []
    },
    {
      "cell_type": "code",
      "metadata": {
        "id": "9RgYz-qs7gql",
        "colab_type": "code",
        "colab": {
          "base_uri": "https://localhost:8080/",
          "height": 52
        },
        "outputId": "6814125d-a87e-4ed7-c15e-3adeda5538ad"
      },
      "source": [
        "%%time\n",
        "module_url = \"https://tfhub.dev/tensorflow/bert_en_uncased_L-24_H-1024_A-16/2\"\n",
        "bert_layer = hub.KerasLayer(module_url, trainable=True)\n"
      ],
      "execution_count": null,
      "outputs": [
        {
          "output_type": "stream",
          "text": [
            "CPU times: user 25.5 s, sys: 5.29 s, total: 30.8 s\n",
            "Wall time: 39.9 s\n"
          ],
          "name": "stdout"
        }
      ]
    },
    {
      "cell_type": "code",
      "metadata": {
        "id": "xz5PtFtEwYFn",
        "colab_type": "code",
        "colab": {}
      },
      "source": [
        "del model"
      ],
      "execution_count": null,
      "outputs": []
    },
    {
      "cell_type": "code",
      "metadata": {
        "id": "ef6d51Myh4oV",
        "colab_type": "code",
        "colab": {}
      },
      "source": [
        "shape=df_train.shape\n",
        "x=shape[0]"
      ],
      "execution_count": null,
      "outputs": []
    },
    {
      "cell_type": "code",
      "metadata": {
        "id": "CxHQ6z697gnk",
        "colab_type": "code",
        "colab": {}
      },
      "source": [
        "train = df_train [0:int(0.8*x)]\n",
        "test = df_train[int(0.8*x):int(x)]"
      ],
      "execution_count": null,
      "outputs": []
    },
    {
      "cell_type": "code",
      "metadata": {
        "id": "o6Zw3hsP7nR7",
        "colab_type": "code",
        "colab": {}
      },
      "source": [
        "vocab_file = bert_layer.resolved_object.vocab_file.asset_path.numpy()\n",
        "do_lower_case = bert_layer.resolved_object.do_lower_case.numpy()\n",
        "tokenizer = tokenization.FullTokenizer(vocab_file, do_lower_case)"
      ],
      "execution_count": null,
      "outputs": []
    },
    {
      "cell_type": "code",
      "metadata": {
        "id": "xctG8iOt9Ka7",
        "colab_type": "code",
        "colab": {}
      },
      "source": [
        "train_input = bert_encode(train.text.values, tokenizer, max_len=252)\n",
        "test_input = bert_encode(test.text.values, tokenizer, max_len=252)\n",
        "train_labels = train.target.values"
      ],
      "execution_count": null,
      "outputs": []
    },
    {
      "cell_type": "code",
      "metadata": {
        "id": "Yz2IjCebA6X6",
        "colab_type": "code",
        "colab": {
          "base_uri": "https://localhost:8080/",
          "height": 34
        },
        "outputId": "4f967f71-d306-454b-b9ad-419377334279"
      },
      "source": [
        "len(train_labels)"
      ],
      "execution_count": null,
      "outputs": [
        {
          "output_type": "execute_result",
          "data": {
            "text/plain": [
              "5068"
            ]
          },
          "metadata": {
            "tags": []
          },
          "execution_count": 23
        }
      ]
    },
    {
      "cell_type": "code",
      "metadata": {
        "id": "EFYOYLre7nO_",
        "colab_type": "code",
        "colab": {
          "base_uri": "https://localhost:8080/",
          "height": 399
        },
        "outputId": "aba44d6b-20d4-4eb2-b645-cea4ee4a4fcc"
      },
      "source": [
        "model = build_model(bert_layer, max_len=252)\n",
        "model.summary()"
      ],
      "execution_count": null,
      "outputs": [
        {
          "output_type": "stream",
          "text": [
            "Model: \"model\"\n",
            "__________________________________________________________________________________________________\n",
            "Layer (type)                    Output Shape         Param #     Connected to                     \n",
            "==================================================================================================\n",
            "input_word_ids (InputLayer)     [(None, 252)]        0                                            \n",
            "__________________________________________________________________________________________________\n",
            "input_mask (InputLayer)         [(None, 252)]        0                                            \n",
            "__________________________________________________________________________________________________\n",
            "segment_ids (InputLayer)        [(None, 252)]        0                                            \n",
            "__________________________________________________________________________________________________\n",
            "keras_layer (KerasLayer)        [(None, 1024), (None 335141889   input_word_ids[0][0]             \n",
            "                                                                 input_mask[0][0]                 \n",
            "                                                                 segment_ids[0][0]                \n",
            "__________________________________________________________________________________________________\n",
            "tf_op_layer_strided_slice (Tens [(None, 1024)]       0           keras_layer[0][1]                \n",
            "__________________________________________________________________________________________________\n",
            "dense (Dense)                   (None, 1)            1025        tf_op_layer_strided_slice[0][0]  \n",
            "==================================================================================================\n",
            "Total params: 335,142,914\n",
            "Trainable params: 335,142,913\n",
            "Non-trainable params: 1\n",
            "__________________________________________________________________________________________________\n"
          ],
          "name": "stdout"
        }
      ]
    },
    {
      "cell_type": "code",
      "metadata": {
        "id": "dGYuHZmY-tyh",
        "colab_type": "code",
        "colab": {
          "base_uri": "https://localhost:8080/",
          "height": 52
        },
        "outputId": "33f6f2ca-e774-46d4-9f8b-ae9175bc700c"
      },
      "source": [
        "train_history = model.fit(\n",
        "    train_input, train_labels,\n",
        "    validation_split=0.2,\n",
        "    epochs=10,\n",
        "    batch_size=4\n",
        ")\n",
        "\n",
        "model.save('model.h5')"
      ],
      "execution_count": null,
      "outputs": [
        {
          "output_type": "stream",
          "text": [
            "Epoch 1/10\n",
            " 292/1014 [=======>......................] - ETA: 17:34 - loss: 0.4561 - accuracy: 0.7723"
          ],
          "name": "stdout"
        }
      ]
    },
    {
      "cell_type": "code",
      "metadata": {
        "id": "RtkDr7T1gMzn",
        "colab_type": "code",
        "colab": {}
      },
      "source": [
        "print(train_history.history.keys())"
      ],
      "execution_count": null,
      "outputs": []
    },
    {
      "cell_type": "code",
      "metadata": {
        "id": "LL-B4aO9gWdY",
        "colab_type": "code",
        "colab": {}
      },
      "source": [
        "plt.plot(train_history.history['accuracy'])\n",
        "plt.plot(train_history.history['val_accuracy'])\n",
        "plt.title('model accuracy')\n",
        "plt.ylabel('accuracy')\n",
        "plt.xlabel('epoch')\n",
        "plt.legend(['train', 'test'], loc='upper left')\n",
        "plt.show()\n",
        "# summarize history for loss\n",
        "plt.plot(train_history.history['loss'])\n",
        "plt.plot(train_history.history['val_loss'])\n",
        "plt.title('model loss')\n",
        "plt.ylabel('loss')\n",
        "plt.xlabel('epoch')\n",
        "plt.legend(['train', 'test'], loc='upper left')\n",
        "plt.show()"
      ],
      "execution_count": null,
      "outputs": []
    },
    {
      "cell_type": "code",
      "metadata": {
        "id": "83UnBrPY-j5s",
        "colab_type": "code",
        "colab": {}
      },
      "source": [
        "testX=test['text']\n",
        "testy=test['target']"
      ],
      "execution_count": null,
      "outputs": []
    },
    {
      "cell_type": "code",
      "metadata": {
        "id": "lBp9Szy4-ef7",
        "colab_type": "code",
        "colab": {}
      },
      "source": [
        "from sklearn.metrics import precision_recall_curve\n",
        "from sklearn.metrics import f1_score\n",
        "from sklearn.metrics import auc\n",
        "from matplotlib import pyplot\n",
        "\n",
        "lr_probs = model.predict(test_input)\n",
        "# keep probabilities for the positive outcome only\n",
        "lr_probs = lr_probs[:, 0]\n",
        "# predict class values\n",
        "yhat = model.predict(test_input)\n",
        "lr_precision, lr_recall, _ = precision_recall_curve(testy, lr_probs)\n"
      ],
      "execution_count": null,
      "outputs": []
    },
    {
      "cell_type": "code",
      "metadata": {
        "id": "-tSOXc8MH5-Q",
        "colab_type": "code",
        "colab": {}
      },
      "source": [
        "fig = plt.figure(figsize=(16, 16))          \n",
        "plot_LSA(y_score,testy)\n",
        "plt.show()"
      ],
      "execution_count": null,
      "outputs": []
    },
    {
      "cell_type": "code",
      "metadata": {
        "id": "5tRy4aFiQgnF",
        "colab_type": "code",
        "colab": {}
      },
      "source": [
        "testy=np.array(testy)"
      ],
      "execution_count": null,
      "outputs": []
    },
    {
      "cell_type": "code",
      "metadata": {
        "id": "K_EzQr0FQL1Q",
        "colab_type": "code",
        "colab": {}
      },
      "source": [
        "lr_f1 = f1_score(testy, yhat.round) \n",
        "lr_auc= auc(lr_recall.round, lr_precision.round)\n",
        "# summarize scores\n",
        "print('Logistic: f1=%.3f auc=%.3f' % (lr_f1, lr_auc))\n",
        "# plot the precision-recall curves\n",
        "no_skill = len(testy[testy==1]) / len(testy)\n",
        "pyplot.plot([0, 1], [no_skill, no_skill], linestyle='--', label='No Skill')\n",
        "pyplot.plot(lr_recall, lr_precision, marker='.', label='Logistic')\n",
        "# axis labels\n",
        "pyplot.xlabel('Recall')\n",
        "pyplot.ylabel('Precision')\n",
        "# show the legend\n",
        "pyplot.legend()\n",
        "# show the plot\n",
        "pyplot.show()"
      ],
      "execution_count": null,
      "outputs": []
    },
    {
      "cell_type": "code",
      "metadata": {
        "id": "eGXOtB4vGGIS",
        "colab_type": "code",
        "colab": {}
      },
      "source": [
        "scores = model.evaluate(test_input,testy, verbose=0)"
      ],
      "execution_count": null,
      "outputs": []
    },
    {
      "cell_type": "code",
      "metadata": {
        "id": "oi-0dPLpNLzK",
        "colab_type": "code",
        "colab": {}
      },
      "source": [
        "print(scores)"
      ],
      "execution_count": null,
      "outputs": []
    },
    {
      "cell_type": "code",
      "metadata": {
        "id": "LXt-2ugtG9GF",
        "colab_type": "code",
        "colab": {}
      },
      "source": [
        "from sklearn.metrics import average_precision_score\n",
        "y_score = model.predict(test_input)\n",
        "\n",
        "average_precision = average_precision_score(testy, y_score)\n",
        "\n",
        "print('Average precision-recall score: {0:0.2f}'.format(\n",
        "      average_precision))"
      ],
      "execution_count": null,
      "outputs": []
    },
    {
      "cell_type": "code",
      "metadata": {
        "id": "KjLidMQlRsZa",
        "colab_type": "code",
        "colab": {
          "base_uri": "https://localhost:8080/",
          "height": 185
        },
        "outputId": "a3bafaf4-bedf-4715-fbf5-535c42561030"
      },
      "source": [
        "from sklearn.metrics import roc_auc_score\n",
        "print(roc_auc_score(testy, y_score))"
      ],
      "execution_count": null,
      "outputs": [
        {
          "output_type": "error",
          "ename": "NameError",
          "evalue": "ignored",
          "traceback": [
            "\u001b[0;31m---------------------------------------------------------------------------\u001b[0m",
            "\u001b[0;31mNameError\u001b[0m                                 Traceback (most recent call last)",
            "\u001b[0;32m<ipython-input-24-3844b26d437d>\u001b[0m in \u001b[0;36m<module>\u001b[0;34m()\u001b[0m\n\u001b[1;32m      1\u001b[0m \u001b[0;32mfrom\u001b[0m \u001b[0msklearn\u001b[0m\u001b[0;34m.\u001b[0m\u001b[0mmetrics\u001b[0m \u001b[0;32mimport\u001b[0m \u001b[0mroc_auc_score\u001b[0m\u001b[0;34m\u001b[0m\u001b[0;34m\u001b[0m\u001b[0m\n\u001b[0;32m----> 2\u001b[0;31m \u001b[0mprint\u001b[0m\u001b[0;34m(\u001b[0m\u001b[0mroc_auc_score\u001b[0m\u001b[0;34m(\u001b[0m\u001b[0mtesty\u001b[0m\u001b[0;34m,\u001b[0m \u001b[0my_score\u001b[0m\u001b[0;34m)\u001b[0m\u001b[0;34m)\u001b[0m\u001b[0;34m\u001b[0m\u001b[0;34m\u001b[0m\u001b[0m\n\u001b[0m",
            "\u001b[0;31mNameError\u001b[0m: name 'testy' is not defined"
          ]
        }
      ]
    },
    {
      "cell_type": "code",
      "metadata": {
        "id": "BfLEcHkuingG",
        "colab_type": "code",
        "colab": {}
      },
      "source": [
        ""
      ],
      "execution_count": null,
      "outputs": []
    },
    {
      "cell_type": "code",
      "metadata": {
        "id": "_Rb__lRJioGd",
        "colab_type": "code",
        "colab": {}
      },
      "source": [
        "def plot_cm(y_true, y_pred, title, figsize=(5,5)):\n",
        "    cm = confusion_matrix(y_true, y_pred, labels=np.unique(y_true))\n",
        "    cm_sum = np.sum(cm, axis=1, keepdims=True)\n",
        "    cm_perc = cm / cm_sum.astype(float) * 100\n",
        "    annot = np.empty_like(cm).astype(str)\n",
        "    nrows, ncols = cm.shape\n",
        "    for i in range(nrows):\n",
        "        for j in range(ncols):\n",
        "            c = cm[i, j]\n",
        "            p = cm_perc[i, j]\n",
        "            if i == j:\n",
        "                s = cm_sum[i]\n",
        "                annot[i, j] = '%.1f%%' % (p)\n",
        "            elif c == 0:\n",
        "                annot[i, j] = ''\n",
        "            else:\n",
        "                annot[i, j] = '%.1f%%' % (p)\n",
        "    cm = pd.DataFrame(cm, index=np.unique(y_true), columns=np.unique(y_true))\n",
        "    cm.index.name = 'True label'\n",
        "    cm.columns.name = 'Predicted label\\naccuracy={:0.4f}; misclass={:0.4f}'\n",
        "    fig, ax = plt.subplots(figsize=figsize)\n",
        "    plt.title(title)\n",
        "    sns.heatmap(cm, cmap= \"Blues\",linecolor = 'black', annot=annot, fmt='', ax=ax)"
      ],
      "execution_count": null,
      "outputs": []
    },
    {
      "cell_type": "code",
      "metadata": {
        "id": "vOu9HjPGLvDX",
        "colab_type": "code",
        "colab": {}
      },
      "source": [
        "y_score = model.predict(test_input)\n",
        "y=y_score\n"
      ],
      "execution_count": null,
      "outputs": []
    },
    {
      "cell_type": "code",
      "metadata": {
        "id": "Q4leCieYOK5w",
        "colab_type": "code",
        "colab": {}
      },
      "source": [
        "y=y_score.squeeze()"
      ],
      "execution_count": null,
      "outputs": []
    },
    {
      "cell_type": "code",
      "metadata": {
        "id": "1TjqzYHrOVYR",
        "colab_type": "code",
        "colab": {}
      },
      "source": [
        "y1=y\n",
        "s=[]\n",
        "for i in range(0,len(y)):\n",
        "  s.append(round(y1[i]))"
      ],
      "execution_count": null,
      "outputs": []
    },
    {
      "cell_type": "code",
      "metadata": {
        "id": "DIb9oqNvO-Lz",
        "colab_type": "code",
        "colab": {}
      },
      "source": [
        "s1=np.array(s, dtype=np.int8)"
      ],
      "execution_count": null,
      "outputs": []
    },
    {
      "cell_type": "code",
      "metadata": {
        "id": "CtCQEB3EFJ_6",
        "colab_type": "code",
        "colab": {}
      },
      "source": [
        "plot_cm(testy.values,s1, 'Confusion matrix', figsize=(7,7))"
      ],
      "execution_count": null,
      "outputs": []
    },
    {
      "cell_type": "code",
      "metadata": {
        "id": "O13UJV9pFJ6W",
        "colab_type": "code",
        "colab": {}
      },
      "source": [
        ""
      ],
      "execution_count": null,
      "outputs": []
    },
    {
      "cell_type": "code",
      "metadata": {
        "id": "ffd0AfZ0WoLg",
        "colab_type": "code",
        "colab": {
          "base_uri": "https://localhost:8080/",
          "height": 382
        },
        "outputId": "7205df20-2edf-4d9e-9e36-6d82e14ae80f"
      },
      "source": [
        "from sklearn.metrics import precision_recall_curve\n",
        "from sklearn.metrics import average_precision_score\n",
        "from sklearn.preprocessing import label_binarize\n",
        "Y = label_binarize(testy, classes=[0, 1])\n",
        "n_classes = Y.shape[1]\n",
        "# For each class\n",
        "precision = dict()\n",
        "recall = dict()\n",
        "average_precision = dict()\n",
        "for i in range(n_classes):\n",
        "    precision[i], recall[i], _ = precision_recall_curve(testy[:,i],\n",
        "                                                        y_score[:,i])\n",
        "    average_precision[i] = average_precision_score(testy[:,i], y_score[:,i])\n",
        "\n",
        "# A \"micro-average\": quantifying score on all classes jointly\n",
        "precision[\"micro\"], recall[\"micro\"], _ = precision_recall_curve(testy.ravel(),\n",
        "    y_score.ravel())\n",
        "average_precision[\"micro\"] = average_precision_score(testy, y_score,\n",
        "                                                     average=\"micro\")\n",
        "print('Average precision score, micro-averaged over all classes: {0:0.2f}'\n",
        "      .format(average_precision[\"micro\"]))"
      ],
      "execution_count": null,
      "outputs": [
        {
          "output_type": "error",
          "ename": "ValueError",
          "evalue": "ignored",
          "traceback": [
            "\u001b[0;31m---------------------------------------------------------------------------\u001b[0m",
            "\u001b[0;31mValueError\u001b[0m                                Traceback (most recent call last)",
            "\u001b[0;32m<ipython-input-106-6d8b0006a1b9>\u001b[0m in \u001b[0;36m<module>\u001b[0;34m()\u001b[0m\n\u001b[1;32m      9\u001b[0m \u001b[0maverage_precision\u001b[0m \u001b[0;34m=\u001b[0m \u001b[0mdict\u001b[0m\u001b[0;34m(\u001b[0m\u001b[0;34m)\u001b[0m\u001b[0;34m\u001b[0m\u001b[0;34m\u001b[0m\u001b[0m\n\u001b[1;32m     10\u001b[0m \u001b[0;32mfor\u001b[0m \u001b[0mi\u001b[0m \u001b[0;32min\u001b[0m \u001b[0mrange\u001b[0m\u001b[0;34m(\u001b[0m\u001b[0mn_classes\u001b[0m\u001b[0;34m)\u001b[0m\u001b[0;34m:\u001b[0m\u001b[0;34m\u001b[0m\u001b[0;34m\u001b[0m\u001b[0m\n\u001b[0;32m---> 11\u001b[0;31m     precision[i], recall[i], _ = precision_recall_curve(testy[:,i],\n\u001b[0m\u001b[1;32m     12\u001b[0m                                                         y_score[:,i])\n\u001b[1;32m     13\u001b[0m     \u001b[0maverage_precision\u001b[0m\u001b[0;34m[\u001b[0m\u001b[0mi\u001b[0m\u001b[0;34m]\u001b[0m \u001b[0;34m=\u001b[0m \u001b[0maverage_precision_score\u001b[0m\u001b[0;34m(\u001b[0m\u001b[0mtesty\u001b[0m\u001b[0;34m[\u001b[0m\u001b[0;34m:\u001b[0m\u001b[0;34m,\u001b[0m\u001b[0mi\u001b[0m\u001b[0;34m]\u001b[0m\u001b[0;34m,\u001b[0m \u001b[0my_score\u001b[0m\u001b[0;34m[\u001b[0m\u001b[0;34m:\u001b[0m\u001b[0;34m,\u001b[0m\u001b[0mi\u001b[0m\u001b[0;34m]\u001b[0m\u001b[0;34m)\u001b[0m\u001b[0;34m\u001b[0m\u001b[0;34m\u001b[0m\u001b[0m\n",
            "\u001b[0;32m/usr/local/lib/python3.6/dist-packages/pandas/core/series.py\u001b[0m in \u001b[0;36m__getitem__\u001b[0;34m(self, key)\u001b[0m\n\u001b[1;32m    908\u001b[0m             \u001b[0mkey\u001b[0m \u001b[0;34m=\u001b[0m \u001b[0mcheck_bool_indexer\u001b[0m\u001b[0;34m(\u001b[0m\u001b[0mself\u001b[0m\u001b[0;34m.\u001b[0m\u001b[0mindex\u001b[0m\u001b[0;34m,\u001b[0m \u001b[0mkey\u001b[0m\u001b[0;34m)\u001b[0m\u001b[0;34m\u001b[0m\u001b[0;34m\u001b[0m\u001b[0m\n\u001b[1;32m    909\u001b[0m \u001b[0;34m\u001b[0m\u001b[0m\n\u001b[0;32m--> 910\u001b[0;31m         \u001b[0;32mreturn\u001b[0m \u001b[0mself\u001b[0m\u001b[0;34m.\u001b[0m\u001b[0m_get_with\u001b[0m\u001b[0;34m(\u001b[0m\u001b[0mkey\u001b[0m\u001b[0;34m)\u001b[0m\u001b[0;34m\u001b[0m\u001b[0;34m\u001b[0m\u001b[0m\n\u001b[0m\u001b[1;32m    911\u001b[0m \u001b[0;34m\u001b[0m\u001b[0m\n\u001b[1;32m    912\u001b[0m     \u001b[0;32mdef\u001b[0m \u001b[0m_get_with\u001b[0m\u001b[0;34m(\u001b[0m\u001b[0mself\u001b[0m\u001b[0;34m,\u001b[0m \u001b[0mkey\u001b[0m\u001b[0;34m)\u001b[0m\u001b[0;34m:\u001b[0m\u001b[0;34m\u001b[0m\u001b[0;34m\u001b[0m\u001b[0m\n",
            "\u001b[0;32m/usr/local/lib/python3.6/dist-packages/pandas/core/series.py\u001b[0m in \u001b[0;36m_get_with\u001b[0;34m(self, key)\u001b[0m\n\u001b[1;32m    921\u001b[0m         \u001b[0;32melif\u001b[0m \u001b[0misinstance\u001b[0m\u001b[0;34m(\u001b[0m\u001b[0mkey\u001b[0m\u001b[0;34m,\u001b[0m \u001b[0mtuple\u001b[0m\u001b[0;34m)\u001b[0m\u001b[0;34m:\u001b[0m\u001b[0;34m\u001b[0m\u001b[0;34m\u001b[0m\u001b[0m\n\u001b[1;32m    922\u001b[0m             \u001b[0;32mtry\u001b[0m\u001b[0;34m:\u001b[0m\u001b[0;34m\u001b[0m\u001b[0;34m\u001b[0m\u001b[0m\n\u001b[0;32m--> 923\u001b[0;31m                 \u001b[0;32mreturn\u001b[0m \u001b[0mself\u001b[0m\u001b[0;34m.\u001b[0m\u001b[0m_get_values_tuple\u001b[0m\u001b[0;34m(\u001b[0m\u001b[0mkey\u001b[0m\u001b[0;34m)\u001b[0m\u001b[0;34m\u001b[0m\u001b[0;34m\u001b[0m\u001b[0m\n\u001b[0m\u001b[1;32m    924\u001b[0m             \u001b[0;32mexcept\u001b[0m \u001b[0mValueError\u001b[0m\u001b[0;34m:\u001b[0m\u001b[0;34m\u001b[0m\u001b[0;34m\u001b[0m\u001b[0m\n\u001b[1;32m    925\u001b[0m                 \u001b[0;31m# if we don't have a MultiIndex, we may still be able to handle\u001b[0m\u001b[0;34m\u001b[0m\u001b[0;34m\u001b[0m\u001b[0;34m\u001b[0m\u001b[0m\n",
            "\u001b[0;32m/usr/local/lib/python3.6/dist-packages/pandas/core/series.py\u001b[0m in \u001b[0;36m_get_values_tuple\u001b[0;34m(self, key)\u001b[0m\n\u001b[1;32m    972\u001b[0m \u001b[0;34m\u001b[0m\u001b[0m\n\u001b[1;32m    973\u001b[0m         \u001b[0;32mif\u001b[0m \u001b[0;32mnot\u001b[0m \u001b[0misinstance\u001b[0m\u001b[0;34m(\u001b[0m\u001b[0mself\u001b[0m\u001b[0;34m.\u001b[0m\u001b[0mindex\u001b[0m\u001b[0;34m,\u001b[0m \u001b[0mMultiIndex\u001b[0m\u001b[0;34m)\u001b[0m\u001b[0;34m:\u001b[0m\u001b[0;34m\u001b[0m\u001b[0;34m\u001b[0m\u001b[0m\n\u001b[0;32m--> 974\u001b[0;31m             \u001b[0;32mraise\u001b[0m \u001b[0mValueError\u001b[0m\u001b[0;34m(\u001b[0m\u001b[0;34m\"Can only tuple-index with a MultiIndex\"\u001b[0m\u001b[0;34m)\u001b[0m\u001b[0;34m\u001b[0m\u001b[0;34m\u001b[0m\u001b[0m\n\u001b[0m\u001b[1;32m    975\u001b[0m \u001b[0;34m\u001b[0m\u001b[0m\n\u001b[1;32m    976\u001b[0m         \u001b[0;31m# If key is contained, would have returned by now\u001b[0m\u001b[0;34m\u001b[0m\u001b[0;34m\u001b[0m\u001b[0;34m\u001b[0m\u001b[0m\n",
            "\u001b[0;31mValueError\u001b[0m: Can only tuple-index with a MultiIndex"
          ]
        }
      ]
    },
    {
      "cell_type": "code",
      "metadata": {
        "id": "JliQJBJmSqDb",
        "colab_type": "code",
        "colab": {
          "base_uri": "https://localhost:8080/",
          "height": 378
        },
        "outputId": "468ee758-5de4-43f0-a27f-07a391ddae75"
      },
      "source": [
        "from sklearn.metrics import precision_recall_curve\n",
        "from sklearn.metrics import plot_precision_recall_curve\n",
        "import matplotlib.pyplot as plt\n",
        "\n",
        "disp = plot_precision_recall_curve(model, test_input, testy)\n",
        "disp.ax_.set_title('2-class Precision-Recall curve: '\n",
        "                   'AP={0:0.2f}'.format(average_precision))"
      ],
      "execution_count": null,
      "outputs": [
        {
          "output_type": "error",
          "ename": "ValueError",
          "evalue": "ignored",
          "traceback": [
            "\u001b[0;31m---------------------------------------------------------------------------\u001b[0m",
            "\u001b[0;31mValueError\u001b[0m                                Traceback (most recent call last)",
            "\u001b[0;32m<ipython-input-100-244d61278b64>\u001b[0m in \u001b[0;36m<module>\u001b[0;34m()\u001b[0m\n\u001b[1;32m      3\u001b[0m \u001b[0;32mimport\u001b[0m \u001b[0mmatplotlib\u001b[0m\u001b[0;34m.\u001b[0m\u001b[0mpyplot\u001b[0m \u001b[0;32mas\u001b[0m \u001b[0mplt\u001b[0m\u001b[0;34m\u001b[0m\u001b[0;34m\u001b[0m\u001b[0m\n\u001b[1;32m      4\u001b[0m \u001b[0;34m\u001b[0m\u001b[0m\n\u001b[0;32m----> 5\u001b[0;31m \u001b[0mdisp\u001b[0m \u001b[0;34m=\u001b[0m \u001b[0mplot_precision_recall_curve\u001b[0m\u001b[0;34m(\u001b[0m\u001b[0mmodel\u001b[0m\u001b[0;34m,\u001b[0m \u001b[0mtest_input\u001b[0m\u001b[0;34m,\u001b[0m \u001b[0mtesty\u001b[0m\u001b[0;34m)\u001b[0m\u001b[0;34m\u001b[0m\u001b[0;34m\u001b[0m\u001b[0m\n\u001b[0m\u001b[1;32m      6\u001b[0m disp.ax_.set_title('2-class Precision-Recall curve: '\n\u001b[1;32m      7\u001b[0m                    'AP={0:0.2f}'.format(average_precision))\n",
            "\u001b[0;32m/usr/local/lib/python3.6/dist-packages/sklearn/metrics/_plot/precision_recall_curve.py\u001b[0m in \u001b[0;36mplot_precision_recall_curve\u001b[0;34m(estimator, X, y, sample_weight, response_method, name, ax, **kwargs)\u001b[0m\n\u001b[1;32m    145\u001b[0m         estimator.__class__.__name__))\n\u001b[1;32m    146\u001b[0m     \u001b[0;32mif\u001b[0m \u001b[0;32mnot\u001b[0m \u001b[0mis_classifier\u001b[0m\u001b[0;34m(\u001b[0m\u001b[0mestimator\u001b[0m\u001b[0;34m)\u001b[0m\u001b[0;34m:\u001b[0m\u001b[0;34m\u001b[0m\u001b[0;34m\u001b[0m\u001b[0m\n\u001b[0;32m--> 147\u001b[0;31m         \u001b[0;32mraise\u001b[0m \u001b[0mValueError\u001b[0m\u001b[0;34m(\u001b[0m\u001b[0mclassification_error\u001b[0m\u001b[0;34m)\u001b[0m\u001b[0;34m\u001b[0m\u001b[0;34m\u001b[0m\u001b[0m\n\u001b[0m\u001b[1;32m    148\u001b[0m \u001b[0;34m\u001b[0m\u001b[0m\n\u001b[1;32m    149\u001b[0m     prediction_method = _check_classifer_response_method(estimator,\n",
            "\u001b[0;31mValueError\u001b[0m: Model should be a binary classifier"
          ]
        }
      ]
    },
    {
      "cell_type": "markdown",
      "metadata": {
        "id": "t0UUDz54FGdV",
        "colab_type": "text"
      },
      "source": [
        "# 12. EDA"
      ]
    },
    {
      "cell_type": "code",
      "metadata": {
        "id": "gsEgmd-pZInh",
        "colab_type": "code",
        "colab": {}
      },
      "source": [
        "df_train=news"
      ],
      "execution_count": null,
      "outputs": []
    },
    {
      "cell_type": "code",
      "metadata": {
        "id": "qIlvveIPFKis",
        "colab_type": "code",
        "colab": {}
      },
      "source": [
        "Real_len = df_train[df_train['target'] == 1].shape[0]\n",
        "Not_len = df_train[df_train['target'] == 0].shape[0]"
      ],
      "execution_count": null,
      "outputs": []
    },
    {
      "cell_type": "code",
      "metadata": {
        "id": "BpgiUrGUFRyC",
        "colab_type": "code",
        "colab": {
          "base_uri": "https://localhost:8080/",
          "height": 336
        },
        "outputId": "915a1888-5a1b-4c38-a7c6-45a54c5feba1"
      },
      "source": [
        "import matplotlib.pyplot as plt\n",
        "\n",
        "plt.rcParams['figure.figsize'] = (7, 5)\n",
        "plt.bar(10,Real_len,3, label=\"Real\", color='blue')\n",
        "plt.bar(15,Not_len,3, label=\"Not\", color='red')\n",
        "plt.legend()\n",
        "plt.ylabel('Number of examples')\n",
        "plt.title('Propertion of examples')\n",
        "plt.show()"
      ],
      "execution_count": null,
      "outputs": [
        {
          "output_type": "display_data",
          "data": {
            "image/png": "[encoded data removed]",
            "text/plain": [
              "<Figure size 504x360 with 1 Axes>"
            ]
          },
          "metadata": {
            "tags": [],
            "needs_background": "light"
          }
        }
      ]
    },
    {
      "cell_type": "code",
      "metadata": {
        "id": "9AU46oTPFR4G",
        "colab_type": "code",
        "colab": {}
      },
      "source": [
        "def length(text):    \n",
        "    '''a function which returns the length of text'''\n",
        "    return len(text)\n",
        "df_train['length'] = df_train['text'].apply(length)"
      ],
      "execution_count": null,
      "outputs": []
    },
    {
      "cell_type": "code",
      "metadata": {
        "id": "ffUTWnWpFR1u",
        "colab_type": "code",
        "colab": {
          "base_uri": "https://localhost:8080/",
          "height": 388
        },
        "outputId": "7be43377-4c26-422c-ad1d-e1c1bccb13e6"
      },
      "source": [
        "plt.rcParams['figure.figsize'] = (18.0, 6.0)\n",
        "bins = 1500\n",
        "plt.hist(df_train[df_train['target'] == 0]['length'], alpha = 0.6, bins=bins, label='Not')\n",
        "plt.hist(df_train[df_train['target'] == 1]['length'], alpha = 0.8, bins=bins, label='Real')\n",
        "plt.xlabel('length')\n",
        "plt.ylabel('numbers')\n",
        "plt.legend(loc='upper right')\n",
        "plt.xlim(0,50000)\n",
        "plt.grid()\n",
        "plt.show()"
      ],
      "execution_count": null,
      "outputs": [
        {
          "output_type": "display_data",
          "data": {
            "image/png": "[encoded data removed]",
            "text/plain": [
              "<Figure size 1296x432 with 1 Axes>"
            ]
          },
          "metadata": {
            "tags": [],
            "needs_background": "light"
          }
        }
      ]
    },
    {
      "cell_type": "code",
      "metadata": {
        "id": "voadWTkQFRu5",
        "colab_type": "code",
        "colab": {
          "base_uri": "https://localhost:8080/",
          "height": 356
        },
        "outputId": "ff1ac2cc-b176-4f59-fabb-7865d05d7020"
      },
      "source": [
        "fig,(ax1,ax2)=plt.subplots(1,2,figsize=(10,5))\n",
        "df_train_len=df_train[df_train['target']==1]['text'].str.len()\n",
        "ax1.hist(df_train_len,color='blue')\n",
        "ax1.set_title('Real')\n",
        "df_train_len=df_train[df_train['target']==0]['text'].str.len()\n",
        "ax2.hist(df_train_len,color='red',)\n",
        "ax2.set_title('Fake')\n",
        "fig.suptitle('Characters in Post')\n",
        "plt.show()"
      ],
      "execution_count": null,
      "outputs": [
        {
          "output_type": "display_data",
          "data": {
            "image/png": "[encoded data removed]",
            "text/plain": [
              "<Figure size 720x360 with 2 Axes>"
            ]
          },
          "metadata": {
            "tags": [],
            "needs_background": "light"
          }
        }
      ]
    },
    {
      "cell_type": "code",
      "metadata": {
        "id": "EOenI4HmGsLl",
        "colab_type": "code",
        "colab": {}
      },
      "source": [
        ""
      ],
      "execution_count": null,
      "outputs": []
    },
    {
      "cell_type": "code",
      "metadata": {
        "id": "clfcc84YGsRa",
        "colab_type": "code",
        "colab": {}
      },
      "source": [
        ""
      ],
      "execution_count": null,
      "outputs": []
    },
    {
      "cell_type": "markdown",
      "metadata": {
        "id": "eD4kRvMtuTta",
        "colab_type": "text"
      },
      "source": [
        "#Roberta"
      ]
    },
    {
      "cell_type": "code",
      "metadata": {
        "id": "s-jG512zuxIe",
        "colab_type": "code",
        "colab": {
          "base_uri": "https://localhost:8080/",
          "height": 802
        },
        "outputId": "5931d431-2c8f-4454-b9c0-e3833b989297"
      },
      "source": [
        "!pip install transformers"
      ],
      "execution_count": null,
      "outputs": [
        {
          "output_type": "stream",
          "text": [
            "Collecting transformers\n",
            "\u001b[?25l  Downloading https://files.pythonhosted.org/packages/a3/78/92cedda05552398352ed9784908b834ee32a0bd071a9b32de287327370b7/transformers-2.8.0-py3-none-any.whl (563kB)\n",
            "\r\u001b[K     |▋                               | 10kB 24.8MB/s eta 0:00:01\r\u001b[K     |█▏                              | 20kB 6.6MB/s eta 0:00:01\r\u001b[K     |█▊                              | 30kB 9.2MB/s eta 0:00:01\r\u001b[K     |██▎                             | 40kB 10.1MB/s eta 0:00:01\r\u001b[K     |███                             | 51kB 6.4MB/s eta 0:00:01\r\u001b[K     |███▌                            | 61kB 6.1MB/s eta 0:00:01\r\u001b[K     |████                            | 71kB 6.1MB/s eta 0:00:01\r\u001b[K     |████▋                           | 81kB 6.4MB/s eta 0:00:01\r\u001b[K     |█████▎                          | 92kB 6.7MB/s eta 0:00:01\r\u001b[K     |█████▉                          | 102kB 6.7MB/s eta 0:00:01\r\u001b[K     |██████▍                         | 112kB 6.7MB/s eta 0:00:01\r\u001b[K     |███████                         | 122kB 6.7MB/s eta 0:00:01\r\u001b[K     |███████▋                        | 133kB 6.7MB/s eta 0:00:01\r\u001b[K     |████████▏                       | 143kB 6.7MB/s eta 0:00:01\r\u001b[K     |████████▊                       | 153kB 6.7MB/s eta 0:00:01\r\u001b[K     |█████████▎                      | 163kB 6.7MB/s eta 0:00:01\r\u001b[K     |█████████▉                      | 174kB 6.7MB/s eta 0:00:01\r\u001b[K     |██████████▌                     | 184kB 6.7MB/s eta 0:00:01\r\u001b[K     |███████████                     | 194kB 6.7MB/s eta 0:00:01\r\u001b[K     |███████████▋                    | 204kB 6.7MB/s eta 0:00:01\r\u001b[K     |████████████▏                   | 215kB 6.7MB/s eta 0:00:01\r\u001b[K     |████████████▉                   | 225kB 6.7MB/s eta 0:00:01\r\u001b[K     |█████████████▍                  | 235kB 6.7MB/s eta 0:00:01\r\u001b[K     |██████████████                  | 245kB 6.7MB/s eta 0:00:01\r\u001b[K     |██████████████▌                 | 256kB 6.7MB/s eta 0:00:01\r\u001b[K     |███████████████▏                | 266kB 6.7MB/s eta 0:00:01\r\u001b[K     |███████████████▊                | 276kB 6.7MB/s eta 0:00:01\r\u001b[K     |████████████████▎               | 286kB 6.7MB/s eta 0:00:01\r\u001b[K     |████████████████▉               | 296kB 6.7MB/s eta 0:00:01\r\u001b[K     |█████████████████▍              | 307kB 6.7MB/s eta 0:00:01\r\u001b[K     |██████████████████              | 317kB 6.7MB/s eta 0:00:01\r\u001b[K     |██████████████████▋             | 327kB 6.7MB/s eta 0:00:01\r\u001b[K     |███████████████████▏            | 337kB 6.7MB/s eta 0:00:01\r\u001b[K     |███████████████████▊            | 348kB 6.7MB/s eta 0:00:01\r\u001b[K     |████████████████████▍           | 358kB 6.7MB/s eta 0:00:01\r\u001b[K     |█████████████████████           | 368kB 6.7MB/s eta 0:00:01\r\u001b[K     |█████████████████████▌          | 378kB 6.7MB/s eta 0:00:01\r\u001b[K     |██████████████████████          | 389kB 6.7MB/s eta 0:00:01\r\u001b[K     |██████████████████████▊         | 399kB 6.7MB/s eta 0:00:01\r\u001b[K     |███████████████████████▎        | 409kB 6.7MB/s eta 0:00:01\r\u001b[K     |███████████████████████▉        | 419kB 6.7MB/s eta 0:00:01\r\u001b[K     |████████████████████████▍       | 430kB 6.7MB/s eta 0:00:01\r\u001b[K     |█████████████████████████       | 440kB 6.7MB/s eta 0:00:01\r\u001b[K     |█████████████████████████▋      | 450kB 6.7MB/s eta 0:00:01\r\u001b[K     |██████████████████████████▏     | 460kB 6.7MB/s eta 0:00:01\r\u001b[K     |██████████████████████████▊     | 471kB 6.7MB/s eta 0:00:01\r\u001b[K     |███████████████████████████▎    | 481kB 6.7MB/s eta 0:00:01\r\u001b[K     |████████████████████████████    | 491kB 6.7MB/s eta 0:00:01\r\u001b[K     |████████████████████████████▌   | 501kB 6.7MB/s eta 0:00:01\r\u001b[K     |█████████████████████████████   | 512kB 6.7MB/s eta 0:00:01\r\u001b[K     |█████████████████████████████▋  | 522kB 6.7MB/s eta 0:00:01\r\u001b[K     |██████████████████████████████▎ | 532kB 6.7MB/s eta 0:00:01\r\u001b[K     |██████████████████████████████▉ | 542kB 6.7MB/s eta 0:00:01\r\u001b[K     |███████████████████████████████▍| 552kB 6.7MB/s eta 0:00:01\r\u001b[K     |████████████████████████████████| 563kB 6.7MB/s eta 0:00:01\r\u001b[K     |████████████████████████████████| 573kB 6.7MB/s \n",
            "\u001b[?25hCollecting tokenizers==0.5.2\n",
            "\u001b[?25l  Downloading https://files.pythonhosted.org/packages/d1/3f/73c881ea4723e43c1e9acf317cf407fab3a278daab3a69c98dcac511c04f/tokenizers-0.5.2-cp36-cp36m-manylinux1_x86_64.whl (3.7MB)\n",
            "\u001b[K     |████████████████████████████████| 3.7MB 19.8MB/s \n",
            "\u001b[?25hRequirement already satisfied: sentencepiece in /usr/local/lib/python3.6/dist-packages (from transformers) (0.1.86)\n",
            "Requirement already satisfied: regex!=2019.12.17 in /usr/local/lib/python3.6/dist-packages (from transformers) (2019.12.20)\n",
            "Requirement already satisfied: dataclasses; python_version < \"3.7\" in /usr/local/lib/python3.6/dist-packages (from transformers) (0.7)\n",
            "Requirement already satisfied: tqdm>=4.27 in /usr/local/lib/python3.6/dist-packages (from transformers) (4.38.0)\n",
            "Requirement already satisfied: numpy in /usr/local/lib/python3.6/dist-packages (from transformers) (1.18.3)\n",
            "Requirement already satisfied: boto3 in /usr/local/lib/python3.6/dist-packages (from transformers) (1.13.1)\n",
            "Collecting sacremoses\n",
            "\u001b[?25l  Downloading https://files.pythonhosted.org/packages/7d/34/09d19aff26edcc8eb2a01bed8e98f13a1537005d31e95233fd48216eed10/sacremoses-0.0.43.tar.gz (883kB)\n",
            "\u001b[K     |████████████████████████████████| 890kB 43.6MB/s \n",
            "\u001b[?25hRequirement already satisfied: requests in /usr/local/lib/python3.6/dist-packages (from transformers) (2.23.0)\n",
            "Requirement already satisfied: filelock in /usr/local/lib/python3.6/dist-packages (from transformers) (3.0.12)\n",
            "Requirement already satisfied: s3transfer<0.4.0,>=0.3.0 in /usr/local/lib/python3.6/dist-packages (from boto3->transformers) (0.3.3)\n",
            "Requirement already satisfied: jmespath<1.0.0,>=0.7.1 in /usr/local/lib/python3.6/dist-packages (from boto3->transformers) (0.9.5)\n",
            "Requirement already satisfied: botocore<1.17.0,>=1.16.1 in /usr/local/lib/python3.6/dist-packages (from boto3->transformers) (1.16.1)\n",
            "Requirement already satisfied: six in /usr/local/lib/python3.6/dist-packages (from sacremoses->transformers) (1.12.0)\n",
            "Requirement already satisfied: click in /usr/local/lib/python3.6/dist-packages (from sacremoses->transformers) (7.1.2)\n",
            "Requirement already satisfied: joblib in /usr/local/lib/python3.6/dist-packages (from sacremoses->transformers) (0.14.1)\n",
            "Requirement already satisfied: idna<3,>=2.5 in /usr/local/lib/python3.6/dist-packages (from requests->transformers) (2.9)\n",
            "Requirement already satisfied: chardet<4,>=3.0.2 in /usr/local/lib/python3.6/dist-packages (from requests->transformers) (3.0.4)\n",
            "Requirement already satisfied: urllib3!=1.25.0,!=1.25.1,<1.26,>=1.21.1 in /usr/local/lib/python3.6/dist-packages (from requests->transformers) (1.24.3)\n",
            "Requirement already satisfied: certifi>=2017.4.17 in /usr/local/lib/python3.6/dist-packages (from requests->transformers) (2020.4.5.1)\n",
            "Requirement already satisfied: python-dateutil<3.0.0,>=2.1 in /usr/local/lib/python3.6/dist-packages (from botocore<1.17.0,>=1.16.1->boto3->transformers) (2.8.1)\n",
            "Requirement already satisfied: docutils<0.16,>=0.10 in /usr/local/lib/python3.6/dist-packages (from botocore<1.17.0,>=1.16.1->boto3->transformers) (0.15.2)\n",
            "Building wheels for collected packages: sacremoses\n",
            "  Building wheel for sacremoses (setup.py) ... \u001b[?25l\u001b[?25hdone\n",
            "  Created wheel for sacremoses: filename=sacremoses-0.0.43-cp36-none-any.whl size=893260 sha256=0caa865c5ce84d797278f370248ca4517c0c40d4977481bbddf664d191886cd0\n",
            "  Stored in directory: /root/.cache/pip/wheels/29/3c/fd/7ce5c3f0666dab31a50123635e6fb5e19ceb42ce38d4e58f45\n",
            "Successfully built sacremoses\n",
            "Installing collected packages: tokenizers, sacremoses, transformers\n",
            "  Found existing installation: tokenizers 0.7.0\n",
            "    Uninstalling tokenizers-0.7.0:\n",
            "      Successfully uninstalled tokenizers-0.7.0\n",
            "Successfully installed sacremoses-0.0.43 tokenizers-0.5.2 transformers-2.8.0\n"
          ],
          "name": "stdout"
        },
        {
          "output_type": "display_data",
          "data": {
            "application/vnd.colab-display-data+json": {
              "pip_warning": {
                "packages": [
                  "tokenizers"
                ]
              }
            }
          },
          "metadata": {
            "tags": []
          }
        }
      ]
    },
    {
      "cell_type": "code",
      "metadata": {
        "id": "B8t6ktluuWrf",
        "colab_type": "code",
        "colab": {}
      },
      "source": [
        "import pandas as pd\n",
        "import numpy as np\n",
        "import tensorflow as tf\n",
        "import tokenizers\n",
        "import transformers\n",
        "from tqdm import tqdm\n",
        "from sklearn import metrics\n",
        "from sklearn.model_selection import KFold\n",
        "import re"
      ],
      "execution_count": null,
      "outputs": []
    },
    {
      "cell_type": "code",
      "metadata": {
        "id": "nYo4FgoFu_71",
        "colab_type": "code",
        "colab": {}
      },
      "source": [
        ""
      ],
      "execution_count": null,
      "outputs": []
    }
  ]
}